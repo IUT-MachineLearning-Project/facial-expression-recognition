{
  "nbformat": 4,
  "nbformat_minor": 0,
  "metadata": {
    "colab": {
      "name": "facial expression recognition-NN.ipynb",
      "version": "0.3.2",
      "views": {},
      "default_view": {},
      "provenance": [],
      "collapsed_sections": []
    },
    "kernelspec": {
      "display_name": "Python 3",
      "language": "python",
      "name": "python3"
    },
    "accelerator": "GPU"
  },
  "cells": [
    {
      "metadata": {
        "id": "3_R9VTW3c4-U",
        "colab_type": "code",
        "colab": {
          "autoexec": {
            "startup": false,
            "wait_interval": 0
          }
        }
      },
      "cell_type": "code",
      "source": [
        "import matplotlib.pyplot as plt\n",
        "from mpl_toolkits.mplot3d import Axes3D\n",
        "import pandas as pd\n",
        "import numpy as np\n",
        "from matplotlib import pyplot as plt\n",
        "import seaborn as sns\n",
        "import matplotlib.patches as mpatches\n",
        "%matplotlib inline"
      ],
      "execution_count": 0,
      "outputs": []
    },
    {
      "metadata": {
        "id": "wmbbUOEzc_I7",
        "colab_type": "code",
        "colab": {
          "autoexec": {
            "startup": false,
            "wait_interval": 0
          }
        }
      },
      "cell_type": "code",
      "source": [
        "!pip install -U -q PyDrive\n",
        "from pydrive.auth import GoogleAuth\n",
        "from pydrive.drive import GoogleDrive\n",
        "from google.colab import auth\n",
        "from oauth2client.client import GoogleCredentials"
      ],
      "execution_count": 0,
      "outputs": []
    },
    {
      "metadata": {
        "id": "r-b8-oO6dBH6",
        "colab_type": "code",
        "colab": {
          "autoexec": {
            "startup": false,
            "wait_interval": 0
          }
        }
      },
      "cell_type": "code",
      "source": [
        "auth.authenticate_user()\n",
        "gauth = GoogleAuth()\n",
        "gauth.credentials = GoogleCredentials.get_application_default()\n",
        "drive = GoogleDrive(gauth)"
      ],
      "execution_count": 0,
      "outputs": []
    },
    {
      "metadata": {
        "id": "WGHG9W5te0ui",
        "colab_type": "code",
        "colab": {
          "autoexec": {
            "startup": false,
            "wait_interval": 0
          }
        }
      },
      "cell_type": "code",
      "source": [
        "#list(drive.ListFile())"
      ],
      "execution_count": 0,
      "outputs": []
    },
    {
      "metadata": {
        "id": "TFbim4bEdEgW",
        "colab_type": "code",
        "colab": {
          "autoexec": {
            "startup": false,
            "wait_interval": 0
          }
        }
      },
      "cell_type": "code",
      "source": [
        "file_id = '1wj5EXCBZ9wyzxYoyHk3XHuvV2ZZSTGAb'\n",
        "downloaded = drive.CreateFile({'id': file_id})"
      ],
      "execution_count": 0,
      "outputs": []
    },
    {
      "metadata": {
        "id": "5j5KhmScdRPW",
        "colab_type": "code",
        "colab": {
          "autoexec": {
            "startup": false,
            "wait_interval": 0
          }
        }
      },
      "cell_type": "code",
      "source": [
        "downloaded.GetContentFile('fer2013.csv')  "
      ],
      "execution_count": 0,
      "outputs": []
    },
    {
      "metadata": {
        "id": "J4scknPAc4-Y",
        "colab_type": "code",
        "colab": {
          "autoexec": {
            "startup": false,
            "wait_interval": 0
          },
          "output_extras": [
            {
              "item_id": 1
            },
            {
              "item_id": 2
            }
          ],
          "base_uri": "https://localhost:8080/",
          "height": 88
        },
        "outputId": "8348157e-2520-458d-9083-9ac3344d47b1",
        "executionInfo": {
          "status": "ok",
          "timestamp": 1521296287292,
          "user_tz": -210,
          "elapsed": 4589,
          "user": {
            "displayName": "Maryam Meghdadi",
            "photoUrl": "//lh4.googleusercontent.com/-_e8noA6hVUI/AAAAAAAAAAI/AAAAAAAABDI/yWdVOp2vsL8/s50-c-k-no/photo.jpg",
            "userId": "116043109273115022182"
          }
        }
      },
      "cell_type": "code",
      "source": [
        "dff = df = pd.DataFrame.from_csv('fer2013.csv', index_col=None)\n",
        "df.shape"
      ],
      "execution_count": 7,
      "outputs": [
        {
          "output_type": "stream",
          "text": [
            "/usr/local/lib/python3.6/dist-packages/ipykernel_launcher.py:1: FutureWarning: from_csv is deprecated. Please use read_csv(...) instead. Note that some of the default arguments are different, so please refer to the documentation for from_csv when changing your function calls\n",
            "  \"\"\"Entry point for launching an IPython kernel.\n"
          ],
          "name": "stderr"
        },
        {
          "output_type": "execute_result",
          "data": {
            "text/plain": [
              "(35887, 3)"
            ]
          },
          "metadata": {
            "tags": []
          },
          "execution_count": 7
        }
      ]
    },
    {
      "metadata": {
        "id": "Lszidxt2c4-d",
        "colab_type": "code",
        "colab": {
          "autoexec": {
            "startup": false,
            "wait_interval": 0
          }
        }
      },
      "cell_type": "code",
      "source": [
        "train = df[0:28709]\n",
        "cv = df[28709:32298] #PublicTest 28709,32297\n",
        "test = df[32298:] #PrivateTest"
      ],
      "execution_count": 0,
      "outputs": []
    },
    {
      "metadata": {
        "id": "6Qtuo71Vc4-j",
        "colab_type": "code",
        "colab": {
          "autoexec": {
            "startup": false,
            "wait_interval": 0
          }
        }
      },
      "cell_type": "code",
      "source": [
        "y_train = train.emotion\n",
        "y_cv = cv.emotion\n",
        "y_test = test.emotion"
      ],
      "execution_count": 0,
      "outputs": []
    },
    {
      "metadata": {
        "id": "wpvaPue1c4-q",
        "colab_type": "code",
        "colab": {
          "autoexec": {
            "startup": false,
            "wait_interval": 0
          }
        }
      },
      "cell_type": "code",
      "source": [
        "train_size = 28709\n",
        "cv_size = test_size = 3589\n",
        "num_pix = 2304 #48*48\n",
        "nparr = np.zeros((train_size, num_pix))\n",
        "nparr1 = np.zeros((cv_size, num_pix))\n",
        "nparr2 = np.zeros((test_size, num_pix))"
      ],
      "execution_count": 0,
      "outputs": []
    },
    {
      "metadata": {
        "id": "6wfN43Esc4-v",
        "colab_type": "code",
        "colab": {
          "autoexec": {
            "startup": false,
            "wait_interval": 0
          }
        }
      },
      "cell_type": "code",
      "source": [
        "for i in range(train_size):\n",
        "    b = [int(j) for j in train.pixels[i].split()]\n",
        "    nparr[i] = np.array(b)"
      ],
      "execution_count": 0,
      "outputs": []
    },
    {
      "metadata": {
        "id": "vTD_Zinyc4-z",
        "colab_type": "code",
        "colab": {
          "autoexec": {
            "startup": false,
            "wait_interval": 0
          }
        }
      },
      "cell_type": "code",
      "source": [
        "maindf = pd.DataFrame(nparr, columns=[int(i) for i in range(num_pix)])\n",
        "X = maindf"
      ],
      "execution_count": 0,
      "outputs": []
    },
    {
      "metadata": {
        "id": "6cco1Xulc4-3",
        "colab_type": "code",
        "colab": {
          "autoexec": {
            "startup": false,
            "wait_interval": 0
          }
        }
      },
      "cell_type": "code",
      "source": [
        "for i in range(28709,32298):#public\n",
        "  b = [int(j) for j in cv.pixels[i].split()]\n",
        "  nparr1[i-28709] = np.array(b)"
      ],
      "execution_count": 0,
      "outputs": []
    },
    {
      "metadata": {
        "id": "MBQM6az_c4-8",
        "colab_type": "code",
        "colab": {
          "autoexec": {
            "startup": false,
            "wait_interval": 0
          }
        }
      },
      "cell_type": "code",
      "source": [
        "maincv = pd.DataFrame(nparr1, columns=[int(i) for i in range(2304)])\n",
        "X_cv = maincv"
      ],
      "execution_count": 0,
      "outputs": []
    },
    {
      "metadata": {
        "id": "-aNrSF5sc4-_",
        "colab_type": "code",
        "colab": {
          "autoexec": {
            "startup": false,
            "wait_interval": 0
          }
        }
      },
      "cell_type": "code",
      "source": [
        "#for i in range(32298,35887):#private\n",
        " #   test.pixels[i] = [int(j) for j in test.pixels[i].split()]\n",
        "#   nparr2[i-32298] = np.array(test.pixels[i])"
      ],
      "execution_count": 0,
      "outputs": []
    },
    {
      "metadata": {
        "id": "pz9bBfq0c4_D",
        "colab_type": "code",
        "colab": {
          "autoexec": {
            "startup": false,
            "wait_interval": 0
          }
        }
      },
      "cell_type": "code",
      "source": [
        "#maintest = pd.DataFrame(nparr2, columns=[int(i) for i in range(num_pix)])\n",
        "#X_test = maintest"
      ],
      "execution_count": 0,
      "outputs": []
    },
    {
      "metadata": {
        "id": "oXSXtVguc4_F",
        "colab_type": "code",
        "colab": {
          "autoexec": {
            "startup": false,
            "wait_interval": 0
          }
        }
      },
      "cell_type": "code",
      "source": [
        "import tensorflow as tf"
      ],
      "execution_count": 0,
      "outputs": []
    },
    {
      "metadata": {
        "id": "7AQihu5Nc4_I",
        "colab_type": "code",
        "colab": {
          "autoexec": {
            "startup": false,
            "wait_interval": 0
          }
        }
      },
      "cell_type": "code",
      "source": [
        "a = dff.pixels\n",
        "arr = np.zeros((train_size, num_pix))\n",
        "for i in range (train_size):\n",
        "    b = [int(j) for j in a[i].split()]\n",
        "    arr[i] = np.array(b)\n"
      ],
      "execution_count": 0,
      "outputs": []
    },
    {
      "metadata": {
        "id": "H20CMWHNc4_L",
        "colab_type": "code",
        "colab": {
          "autoexec": {
            "startup": false,
            "wait_interval": 0
          },
          "output_extras": [
            {
              "item_id": 1
            }
          ],
          "base_uri": "https://localhost:8080/",
          "height": 34
        },
        "outputId": "90b98422-6dd1-414c-f18b-af8b61c1fcce",
        "executionInfo": {
          "status": "ok",
          "timestamp": 1521296352924,
          "user_tz": -210,
          "elapsed": 1262,
          "user": {
            "displayName": "Maryam Meghdadi",
            "photoUrl": "//lh4.googleusercontent.com/-_e8noA6hVUI/AAAAAAAAAAI/AAAAAAAABDI/yWdVOp2vsL8/s50-c-k-no/photo.jpg",
            "userId": "116043109273115022182"
          }
        }
      },
      "cell_type": "code",
      "source": [
        "x = tf.placeholder('float' , [None , num_pix])\n",
        "y = tf.placeholder('float')\n",
        "\n",
        "from keras.utils.np_utils import to_categorical\n",
        "\n",
        "y_train = to_categorical(y_train, 7)"
      ],
      "execution_count": 19,
      "outputs": [
        {
          "output_type": "stream",
          "text": [
            "Using TensorFlow backend.\n"
          ],
          "name": "stderr"
        }
      ]
    },
    {
      "metadata": {
        "id": "eX56llvTc4_N",
        "colab_type": "code",
        "colab": {
          "autoexec": {
            "startup": false,
            "wait_interval": 0
          }
        }
      },
      "cell_type": "code",
      "source": [
        "n_h1 = train_size\n",
        "n_h2 = 2000\n",
        "n_h3 = 2000\n",
        "n_h4 = 2000\n",
        "n_h5 = 2000\n",
        "n_h6 = 2000\n",
        "n_classes = 7\n",
        "batch_size = 3072 #1024 #2048\n",
        "def neural_network(data):\n",
        "    hidden_l_1 = {'weights' :tf.Variable(tf.random_normal([num_pix , n_h1])) , 'bias':tf.Variable(tf.random_normal([n_h1]))}\n",
        "    hidden_l_2 = {'weights' :tf.Variable(tf.random_normal([n_h1 , n_h2])) , 'bias':tf.Variable(tf.random_normal([n_h2]))}\n",
        "    hidden_l_3 = {'weights' :tf.Variable(tf.random_normal([n_h2 , n_h3])) , 'bias':tf.Variable(tf.random_normal([n_h3]))}\n",
        "    hidden_l_4 = {'weights' :tf.Variable(tf.random_normal([n_h3 , n_h4])) , 'bias':tf.Variable(tf.random_normal([n_h4]))}\n",
        "    hidden_l_5 = {'weights' :tf.Variable(tf.random_normal([n_h4 , n_h5])) , 'bias':tf.Variable(tf.random_normal([n_h5]))}\n",
        "    hidden_l_6 = {'weights' :tf.Variable(tf.random_normal([n_h5 , n_h6])) , 'bias':tf.Variable(tf.random_normal([n_h6]))}\n",
        "    output_l = {'weights' :tf.Variable(tf.random_normal([n_h6 , n_classes])) , 'bias':tf.Variable(tf.random_normal([n_classes]))}\n",
        "    l1 = tf.add(tf.matmul(data,hidden_l_1['weights']) , hidden_l_1['bias'])    \n",
        "    l1 = tf.nn.relu(l1)\n",
        "    l2 = tf.add(tf.matmul(l1,hidden_l_2['weights']) , hidden_l_2['bias'])    \n",
        "    l2 = tf.nn.relu(l2)\n",
        "    l3 = tf.add(tf.matmul(l2,hidden_l_3['weights']) , hidden_l_3['bias'])    \n",
        "    l3 = tf.nn.relu(l3)\n",
        "    l4 = tf.add(tf.matmul(l3,hidden_l_4['weights']) , hidden_l_4['bias'])    \n",
        "    l4 = tf.nn.relu(l4)\n",
        "    l5 = tf.add(tf.matmul(l4,hidden_l_5['weights']) , hidden_l_5['bias'])    \n",
        "    l5 = tf.nn.relu(l5)\n",
        "    l6 = tf.add(tf.matmul(l5,hidden_l_6['weights']) , hidden_l_6['bias'])    \n",
        "    l6 = tf.nn.relu(l6)\n",
        "    output = tf.matmul(l6,output_l['weights']) + output_l['bias']   \n",
        "    return output"
      ],
      "execution_count": 0,
      "outputs": []
    },
    {
      "metadata": {
        "id": "aZznbLVIc4_Q",
        "colab_type": "code",
        "colab": {
          "autoexec": {
            "startup": false,
            "wait_interval": 0
          }
        }
      },
      "cell_type": "code",
      "source": [
        "def next_batch(num, data, labels):\n",
        "    '''\n",
        "    Return a total of `num` random samples and labels. \n",
        "    '''\n",
        "    idx = np.arange(0 , len(data))\n",
        "    np.random.shuffle(idx)\n",
        "    idx = idx[:num]\n",
        "    data_shuffle = [data[ i] for i in idx]\n",
        "    labels_shuffle = [labels[ i] for i in idx]\n",
        "\n",
        "    return np.asarray(data_shuffle), np.asarray(labels_shuffle)"
      ],
      "execution_count": 0,
      "outputs": []
    },
    {
      "metadata": {
        "id": "EFjUSsyWc4_W",
        "colab_type": "code",
        "colab": {
          "autoexec": {
            "startup": false,
            "wait_interval": 0
          }
        }
      },
      "cell_type": "code",
      "source": [
        "def training(X, epc):\n",
        "    prediction = neural_network(X)\n",
        "    cost = tf.reduce_mean(tf.nn.softmax_cross_entropy_with_logits(logits=prediction , labels=y))\n",
        "    #                       learning_rate = 0.001\n",
        "    optimizer = tf.train.AdamOptimizer().minimize(cost)\n",
        "    #num_epochs = epc\n",
        "    \n",
        "    with tf.Session() as sess:\n",
        "        sess.run(tf.global_variables_initializer())\n",
        "        \n",
        "        for epochs in range(epc):\n",
        "            epochs_loss = 0\n",
        "            for i in range(train_size // batch_size):\n",
        "                #ex, ey = next_batch(batch_size, arr, np.array(y_train))\n",
        "                ex = arr[i*batch_size:(i+1)*batch_size]\n",
        "                ey = y_train[i*batch_size:(i+1)*batch_size]\n",
        "                _, c = sess.run([optimizer, cost], feed_dict={\n",
        "                    X: ex, y: ey})    \n",
        "                epochs_loss += c\n",
        "            correct = tf.equal(tf.argmax(prediction, 1), tf.argmax(y, 1))\n",
        "            accuracy = tf.reduce_mean(tf.cast(correct, 'float'))\n",
        "            print('Epoch', epochs, '/', epc, 'loss', epochs_loss, '   ', 'Accuracy:', accuracy.eval({X: X_cv,\n",
        "                                  y: to_categorical(y_cv, 7)},sess), '  ','Accuracy:', accuracy.eval({X: arr,y: y_train},sess))\n",
        "        \n",
        "        correct = tf.equal(tf.argmax(prediction, 1), tf.argmax(y, 1))\n",
        "        accuracy = tf.reduce_mean(tf.cast(correct, 'float'))\n",
        "        print('Accuracy:', accuracy.eval({X: arr,\n",
        "                                          y: y_train}))\n",
        "        saver = tf.train.Saver()\n",
        "        save_path = saver.save(sess, \"./model.ckpt\")"
      ],
      "execution_count": 0,
      "outputs": []
    },
    {
      "metadata": {
        "id": "vf9vA8Itc4_Y",
        "colab_type": "code",
        "colab": {
          "autoexec": {
            "startup": false,
            "wait_interval": 0
          },
          "output_extras": [
            {
              "item_id": 45
            },
            {
              "item_id": 51
            }
          ],
          "base_uri": "https://localhost:8080/",
          "height": 1040
        },
        "outputId": "d40b8af9-b482-40bb-d044-dc2a823f25ae",
        "executionInfo": {
          "status": "ok",
          "timestamp": 1521285067213,
          "user_tz": -210,
          "elapsed": 867057,
          "user": {
            "displayName": "Maryam Meghdadi",
            "photoUrl": "//lh4.googleusercontent.com/-_e8noA6hVUI/AAAAAAAAAAI/AAAAAAAABDI/yWdVOp2vsL8/s50-c-k-no/photo.jpg",
            "userId": "116043109273115022182"
          }
        }
      },
      "cell_type": "code",
      "source": [
        "  training(x, 50) #3 hidden layers: trainsize, 3000, 3000/ 50 epochs/  batchsize 2048"
      ],
      "execution_count": 23,
      "outputs": [
        {
          "output_type": "stream",
          "text": [
            "WARNING:tensorflow:From <ipython-input-22-60655d078954>:3: softmax_cross_entropy_with_logits (from tensorflow.python.ops.nn_ops) is deprecated and will be removed in a future version.\n",
            "Instructions for updating:\n",
            "\n",
            "Future major versions of TensorFlow will allow gradients to flow\n",
            "into the labels input on backprop by default.\n",
            "\n",
            "See tf.nn.softmax_cross_entropy_with_logits_v2.\n",
            "\n",
            "Epoch 0 / 50 loss 43590111104.0     Accuracy: 0.18361661    Accuracy: 0.1724198\n",
            "Epoch 1 / 50 loss 15624507136.0     Accuracy: 0.26023963    Accuracy: 0.26535234\n",
            "Epoch 2 / 50 loss 6057901824.0     Accuracy: 0.29395375    Accuracy: 0.28966525\n",
            "Epoch 3 / 50 loss 3155013600.0     Accuracy: 0.29116747    Accuracy: 0.30882302\n",
            "Epoch 4 / 50 loss 2070319616.0     Accuracy: 0.2897743    Accuracy: 0.3132119\n",
            "Epoch 5 / 50 loss 1649916968.0     Accuracy: 0.31178603    Accuracy: 0.34327215\n",
            "Epoch 6 / 50 loss 1450280296.0     Accuracy: 0.2917247    Accuracy: 0.33996308\n",
            "Epoch 7 / 50 loss 1318479152.0     Accuracy: 0.30147675    Accuracy: 0.34978577\n",
            "Epoch 8 / 50 loss 1405086424.0     Accuracy: 0.20869324    Accuracy: 0.2800864\n",
            "Epoch 9 / 50 loss 2550614136.0     Accuracy: 0.20228475    Accuracy: 0.23090321\n",
            "Epoch 10 / 50 loss 3353100608.0     Accuracy: 0.30370578    Accuracy: 0.34024173\n",
            "Epoch 11 / 50 loss 2089018168.0     Accuracy: 0.2956255    Accuracy: 0.35431397\n",
            "Epoch 12 / 50 loss 2308879512.0     Accuracy: 0.21872388    Accuracy: 0.2541015\n",
            "Epoch 13 / 50 loss 2425135904.0     Accuracy: 0.26246867    Accuracy: 0.3437946\n",
            "Epoch 14 / 50 loss 1364201760.0     Accuracy: 0.336584    Accuracy: 0.44700268\n",
            "Epoch 15 / 50 loss 1225386840.0     Accuracy: 0.28280857    Accuracy: 0.3980285\n",
            "Epoch 16 / 50 loss 981574044.0     Accuracy: 0.31819448    Accuracy: 0.44059354\n",
            "Epoch 17 / 50 loss 1332892512.0     Accuracy: 0.29478964    Accuracy: 0.3662266\n",
            "Epoch 18 / 50 loss 1246467380.0     Accuracy: 0.31234327    Accuracy: 0.44059354\n",
            "Epoch 19 / 50 loss 852697464.0     Accuracy: 0.32376707    Accuracy: 0.48503953\n",
            "Epoch 20 / 50 loss 1079521208.0     Accuracy: 0.28782392    Accuracy: 0.37354138\n",
            "Epoch 21 / 50 loss 1945913528.0     Accuracy: 0.344107    Accuracy: 0.4905082\n",
            "Epoch 22 / 50 loss 1317195152.0     Accuracy: 0.27305657    Accuracy: 0.39322165\n",
            "Epoch 23 / 50 loss 1679548740.0     Accuracy: 0.26246867    Accuracy: 0.39186317\n",
            "Epoch 24 / 50 loss 1226596084.0     Accuracy: 0.2906102    Accuracy: 0.45842767\n",
            "Epoch 25 / 50 loss 900547952.0     Accuracy: 0.3471719    Accuracy: 0.5216483\n",
            "Epoch 26 / 50 loss 786499392.0     Accuracy: 0.3220953    Accuracy: 0.5041973\n",
            "Epoch 27 / 50 loss 705313124.0     Accuracy: 0.32348844    Accuracy: 0.5184785\n",
            "Epoch 28 / 50 loss 679785396.0     Accuracy: 0.34745055    Accuracy: 0.5622627\n",
            "Epoch 29 / 50 loss 598498642.0     Accuracy: 0.33546948    Accuracy: 0.58810824\n",
            "Epoch 30 / 50 loss 474302924.0     Accuracy: 0.3098356    Accuracy: 0.5060434\n",
            "Epoch 31 / 50 loss 724756180.0     Accuracy: 0.26358318    Accuracy: 0.42387405\n",
            "Epoch 32 / 50 loss 1229261336.0     Accuracy: 0.28949568    Accuracy: 0.45020726\n",
            "Epoch 33 / 50 loss 1176336444.0     Accuracy: 0.34159935    Accuracy: 0.4769236\n",
            "Epoch 34 / 50 loss 1216328652.0     Accuracy: 0.33519086    Accuracy: 0.4899509\n",
            "Epoch 35 / 50 loss 866235544.0     Accuracy: 0.2925606    Accuracy: 0.47782925\n",
            "Epoch 36 / 50 loss 661490020.0     Accuracy: 0.30899972    Accuracy: 0.4896722\n",
            "Epoch 37 / 50 loss 435880088.0     Accuracy: 0.31791586    Accuracy: 0.6253091\n",
            "Epoch 38 / 50 loss 310118948.0     Accuracy: 0.32543883    Accuracy: 0.6517817\n",
            "Epoch 39 / 50 loss 298582658.0     Accuracy: 0.3385344    Accuracy: 0.67355186\n",
            "Epoch 40 / 50 loss 513779790.0     Accuracy: 0.2956255    Accuracy: 0.45891532\n",
            "Epoch 41 / 50 loss 1187544536.0     Accuracy: 0.21621622    Accuracy: 0.3419485\n",
            "Epoch 42 / 50 loss 1461192240.0     Accuracy: 0.3137364    Accuracy: 0.52140445\n",
            "Epoch 43 / 50 loss 572867124.0     Accuracy: 0.3382558    Accuracy: 0.6375353\n",
            "Epoch 44 / 50 loss 335875238.0     Accuracy: 0.37614936    Accuracy: 0.7071998\n"
          ],
          "name": "stdout"
        },
        {
          "output_type": "stream",
          "text": [
            "Epoch 45 / 50 loss 260285333.0     Accuracy: 0.34745055    Accuracy: 0.7162214\n",
            "Epoch 46 / 50 loss 210328321.0     Accuracy: 0.34745055    Accuracy: 0.67891604\n",
            "Epoch 47 / 50 loss 281329248.0     Accuracy: 0.3719699    Accuracy: 0.6876589\n",
            "Epoch 48 / 50 loss 423555360.0     Accuracy: 0.2992477    Accuracy: 0.57630014\n",
            "Epoch 49 / 50 loss 329242731.0     Accuracy: 0.33129007    Accuracy: 0.6749451\n",
            "Accuracy: 0.6749451\n"
          ],
          "name": "stdout"
        }
      ]
    },
    {
      "metadata": {
        "id": "5QuoySscc4_d",
        "colab_type": "code",
        "colab": {
          "autoexec": {
            "startup": false,
            "wait_interval": 0
          },
          "output_extras": [
            {
              "item_id": 44
            },
            {
              "item_id": 92
            },
            {
              "item_id": 102
            }
          ],
          "base_uri": "https://localhost:8080/",
          "height": 1890
        },
        "outputId": "3ae4bd43-f476-4752-f18f-f1dbd3cb0cd8",
        "executionInfo": {
          "status": "ok",
          "timestamp": 1521289346157,
          "user_tz": -210,
          "elapsed": 1812584,
          "user": {
            "displayName": "Maryam Meghdadi",
            "photoUrl": "//lh4.googleusercontent.com/-_e8noA6hVUI/AAAAAAAAAAI/AAAAAAAABDI/yWdVOp2vsL8/s50-c-k-no/photo.jpg",
            "userId": "116043109273115022182"
          }
        }
      },
      "cell_type": "code",
      "source": [
        "training(x,100) #6 hidden layers: trainsize, 3000, 3000, 2000, 1000, 1000/ 100 epochs  batchsize 2048"
      ],
      "execution_count": 25,
      "outputs": [
        {
          "output_type": "stream",
          "text": [
            "WARNING:tensorflow:From <ipython-input-24-60655d078954>:3: softmax_cross_entropy_with_logits (from tensorflow.python.ops.nn_ops) is deprecated and will be removed in a future version.\n",
            "Instructions for updating:\n",
            "\n",
            "Future major versions of TensorFlow will allow gradients to flow\n",
            "into the labels input on backprop by default.\n",
            "\n",
            "See tf.nn.softmax_cross_entropy_with_logits_v2.\n",
            "\n",
            "Epoch 0 / 100 loss 367254041526272.0     Accuracy: 0.2504876    Accuracy: 0.25288236\n",
            "Epoch 1 / 100 loss 112965325160448.0     Accuracy: 0.25410977    Accuracy: 0.25761956\n",
            "Epoch 2 / 100 loss 46366568873984.0     Accuracy: 0.21454445    Accuracy: 0.23351562\n",
            "Epoch 3 / 100 loss 25498658799616.0     Accuracy: 0.27027026    Accuracy: 0.2960744\n",
            "Epoch 4 / 100 loss 17731365568512.0     Accuracy: 0.235163    Accuracy: 0.26277474\n",
            "Epoch 5 / 100 loss 13944069095424.0     Accuracy: 0.2733352    Accuracy: 0.32094464\n",
            "Epoch 6 / 100 loss 12635646263296.0     Accuracy: 0.28169405    Accuracy: 0.3361315\n",
            "Epoch 7 / 100 loss 11517198401536.0     Accuracy: 0.29618278    Accuracy: 0.3473127\n",
            "Epoch 8 / 100 loss 12492860751872.0     Accuracy: 0.29283923    Accuracy: 0.35967815\n",
            "Epoch 9 / 100 loss 14362438402048.0     Accuracy: 0.2858735    Accuracy: 0.35873768\n",
            "Epoch 10 / 100 loss 17671601979392.0     Accuracy: 0.30677068    Accuracy: 0.36399734\n",
            "Epoch 11 / 100 loss 19131168718848.0     Accuracy: 0.2897743    Accuracy: 0.37308857\n",
            "Epoch 12 / 100 loss 16033978318848.0     Accuracy: 0.29980496    Accuracy: 0.3591905\n",
            "Epoch 13 / 100 loss 12225035108352.0     Accuracy: 0.30370578    Accuracy: 0.42798427\n",
            "Epoch 14 / 100 loss 9885623844864.0     Accuracy: 0.30147675    Accuracy: 0.42655614\n",
            "Epoch 15 / 100 loss 7831378755584.0     Accuracy: 0.29952633    Accuracy: 0.4463757\n",
            "Epoch 16 / 100 loss 6108622159872.0     Accuracy: 0.326832    Accuracy: 0.49454874\n",
            "Epoch 17 / 100 loss 5366118285312.0     Accuracy: 0.29785454    Accuracy: 0.4914835\n",
            "Epoch 18 / 100 loss 5181515333632.0     Accuracy: 0.29980496    Accuracy: 0.49329478\n",
            "Epoch 19 / 100 loss 10278315458560.0     Accuracy: 0.29674003    Accuracy: 0.42195827\n",
            "Epoch 20 / 100 loss 9498452492288.0     Accuracy: 0.26051825    Accuracy: 0.37326273\n",
            "Epoch 21 / 100 loss 11291776909312.0     Accuracy: 0.3028699    Accuracy: 0.41328505\n",
            "Epoch 22 / 100 loss 11040858963968.0     Accuracy: 0.26999164    Accuracy: 0.44902295\n",
            "Epoch 23 / 100 loss 6418388713472.0     Accuracy: 0.31958762    Accuracy: 0.5533108\n",
            "Epoch 24 / 100 loss 4754101796864.0     Accuracy: 0.30927834    Accuracy: 0.5506984\n",
            "Epoch 25 / 100 loss 4169987981312.0     Accuracy: 0.34354973    Accuracy: 0.5994288\n",
            "Epoch 26 / 100 loss 4315390640128.0     Accuracy: 0.33491224    Accuracy: 0.5866105\n",
            "Epoch 27 / 100 loss 6440200028160.0     Accuracy: 0.24993034    Accuracy: 0.40551743\n",
            "Epoch 28 / 100 loss 7477365997568.0     Accuracy: 0.28865978    Accuracy: 0.50416243\n",
            "Epoch 29 / 100 loss 5907520585728.0     Accuracy: 0.31568682    Accuracy: 0.5626807\n",
            "Epoch 30 / 100 loss 3680256425984.0     Accuracy: 0.31039286    Accuracy: 0.6098436\n",
            "Epoch 31 / 100 loss 2856819736576.0     Accuracy: 0.34020618    Accuracy: 0.6509457\n",
            "Epoch 32 / 100 loss 2603943018496.0     Accuracy: 0.3424352    Accuracy: 0.6750845\n",
            "Epoch 33 / 100 loss 4226424569856.0     Accuracy: 0.28615212    Accuracy: 0.50837713\n",
            "Epoch 34 / 100 loss 5445464965120.0     Accuracy: 0.34354973    Accuracy: 0.6063604\n",
            "Epoch 35 / 100 loss 3400332328960.0     Accuracy: 0.30677068    Accuracy: 0.6094605\n",
            "Epoch 36 / 100 loss 4367042658304.0     Accuracy: 0.34271386    Accuracy: 0.5950747\n",
            "Epoch 37 / 100 loss 4236832866304.0     Accuracy: 0.34299248    Accuracy: 0.64453655\n",
            "Epoch 38 / 100 loss 2960262643712.0     Accuracy: 0.33324045    Accuracy: 0.67950815\n",
            "Epoch 39 / 100 loss 3451204616192.0     Accuracy: 0.36779046    Accuracy: 0.6496569\n",
            "Epoch 40 / 100 loss 2702984224768.0     Accuracy: 0.292282    Accuracy: 0.54686683\n",
            "Epoch 41 / 100 loss 3785191604224.0     Accuracy: 0.34159935    Accuracy: 0.6171932\n",
            "Epoch 42 / 100 loss 3671835738112.0     Accuracy: 0.31011423    Accuracy: 0.63178796\n"
          ],
          "name": "stdout"
        },
        {
          "output_type": "stream",
          "text": [
            "Epoch 43 / 100 loss 3216827695104.0     Accuracy: 0.31122875    Accuracy: 0.6219304\n",
            "Epoch 44 / 100 loss 2627347234816.0     Accuracy: 0.33630538    Accuracy: 0.7471873\n",
            "Epoch 45 / 100 loss 2325275705344.0     Accuracy: 0.32933965    Accuracy: 0.62067646\n",
            "Epoch 46 / 100 loss 2514539896832.0     Accuracy: 0.3070493    Accuracy: 0.5971995\n",
            "Epoch 47 / 100 loss 2430414348288.0     Accuracy: 0.35998887    Accuracy: 0.7753666\n",
            "Epoch 48 / 100 loss 1626106740736.0     Accuracy: 0.33240458    Accuracy: 0.7634888\n",
            "Epoch 49 / 100 loss 1189608480768.0     Accuracy: 0.35831708    Accuracy: 0.7384792\n",
            "Epoch 50 / 100 loss 1131645267968.0     Accuracy: 0.34633604    Accuracy: 0.7357623\n",
            "Epoch 51 / 100 loss 1293656731648.0     Accuracy: 0.33881304    Accuracy: 0.7422411\n",
            "Epoch 52 / 100 loss 1428747616256.0     Accuracy: 0.32850376    Accuracy: 0.78306454\n",
            "Epoch 53 / 100 loss 1724355080192.0     Accuracy: 0.35887435    Accuracy: 0.78783655\n",
            "Epoch 54 / 100 loss 1492704202752.0     Accuracy: 0.3527445    Accuracy: 0.69737715\n",
            "Epoch 55 / 100 loss 2039511908352.0     Accuracy: 0.31122875    Accuracy: 0.63652515\n",
            "Epoch 56 / 100 loss 3128641716224.0     Accuracy: 0.2981332    Accuracy: 0.65098053\n",
            "Epoch 57 / 100 loss 2722245795840.0     Accuracy: 0.3641683    Accuracy: 0.7176843\n",
            "Epoch 58 / 100 loss 2308360491008.0     Accuracy: 0.35803846    Accuracy: 0.7031593\n",
            "Epoch 59 / 100 loss 1945080930304.0     Accuracy: 0.3471719    Accuracy: 0.74015117\n",
            "Epoch 60 / 100 loss 1481384054784.0     Accuracy: 0.3488437    Accuracy: 0.7299453\n",
            "Epoch 61 / 100 loss 1419866259456.0     Accuracy: 0.36974087    Accuracy: 0.79905254\n",
            "Epoch 62 / 100 loss 1684075986944.0     Accuracy: 0.31317917    Accuracy: 0.66770005\n",
            "Epoch 63 / 100 loss 3215129714688.0     Accuracy: 0.3251602    Accuracy: 0.68410605\n",
            "Epoch 64 / 100 loss 5205420081152.0     Accuracy: 0.26163277    Accuracy: 0.5535198\n",
            "Epoch 65 / 100 loss 3848562180096.0     Accuracy: 0.29841182    Accuracy: 0.6606987\n",
            "Epoch 66 / 100 loss 1829411930112.0     Accuracy: 0.30732796    Accuracy: 0.7340555\n",
            "Epoch 67 / 100 loss 1284656906240.0     Accuracy: 0.29785454    Accuracy: 0.7448187\n",
            "Epoch 68 / 100 loss 1087374024704.0     Accuracy: 0.33324045    Accuracy: 0.82378346\n",
            "Epoch 69 / 100 loss 732274229248.0     Accuracy: 0.3204235    Accuracy: 0.76662374\n",
            "Epoch 70 / 100 loss 774188052480.0     Accuracy: 0.31652272    Accuracy: 0.7759588\n",
            "Epoch 71 / 100 loss 948179083264.0     Accuracy: 0.31150737    Accuracy: 0.7542931\n",
            "Epoch 72 / 100 loss 1322749562880.0     Accuracy: 0.28420174    Accuracy: 0.6998851\n",
            "Epoch 73 / 100 loss 1577470578688.0     Accuracy: 0.31234327    Accuracy: 0.75749767\n",
            "Epoch 74 / 100 loss 1364102733824.0     Accuracy: 0.3204235    Accuracy: 0.7404647\n",
            "Epoch 75 / 100 loss 932707342336.0     Accuracy: 0.3078852    Accuracy: 0.72545195\n",
            "Epoch 76 / 100 loss 1362963529728.0     Accuracy: 0.292282    Accuracy: 0.6580515\n",
            "Epoch 77 / 100 loss 1312413065216.0     Accuracy: 0.28336585    Accuracy: 0.6692675\n",
            "Epoch 78 / 100 loss 2402510049280.0     Accuracy: 0.25550294    Accuracy: 0.54777247\n",
            "Epoch 79 / 100 loss 2498730303488.0     Accuracy: 0.28364447    Accuracy: 0.64669615\n",
            "Epoch 80 / 100 loss 2616440184832.0     Accuracy: 0.29701868    Accuracy: 0.66881466\n",
            "Epoch 81 / 100 loss 3271741218816.0     Accuracy: 0.32153803    Accuracy: 0.7035076\n",
            "Epoch 82 / 100 loss 3386203734016.0     Accuracy: 0.3652828    Accuracy: 0.7138528\n",
            "Epoch 83 / 100 loss 3764932657152.0     Accuracy: 0.36918363    Accuracy: 0.6941029\n",
            "Epoch 84 / 100 loss 3072379305984.0     Accuracy: 0.31903037    Accuracy: 0.6854993\n",
            "Epoch 85 / 100 loss 1514384613376.0     Accuracy: 0.36193925    Accuracy: 0.8203699\n",
            "Epoch 86 / 100 loss 633540517888.0     Accuracy: 0.36918363    Accuracy: 0.86551255\n",
            "Epoch 87 / 100 loss 412701325312.0     Accuracy: 0.37893564    Accuracy: 0.88456583\n",
            "Epoch 88 / 100 loss 419400847360.0     Accuracy: 0.36667594    Accuracy: 0.8626563\n",
            "Epoch 89 / 100 loss 498778333184.0     Accuracy: 0.35218725    Accuracy: 0.8302971\n",
            "Epoch 90 / 100 loss 564637835264.0     Accuracy: 0.35413763    Accuracy: 0.84447384\n"
          ],
          "name": "stdout"
        },
        {
          "output_type": "stream",
          "text": [
            "Epoch 91 / 100 loss 735782895616.0     Accuracy: 0.361382    Accuracy: 0.85137063\n",
            "Epoch 92 / 100 loss 857160456192.0     Accuracy: 0.37141266    Accuracy: 0.87164307\n",
            "Epoch 93 / 100 loss 966020259840.0     Accuracy: 0.3661187    Accuracy: 0.8366714\n",
            "Epoch 94 / 100 loss 1008122765312.0     Accuracy: 0.33324045    Accuracy: 0.72757673\n",
            "Epoch 95 / 100 loss 1090570088448.0     Accuracy: 0.38116467    Accuracy: 0.8599394\n",
            "Epoch 96 / 100 loss 713622702080.0     Accuracy: 0.3318473    Accuracy: 0.8150754\n",
            "Epoch 97 / 100 loss 670109005824.0     Accuracy: 0.319309    Accuracy: 0.7988784\n",
            "Epoch 98 / 100 loss 718429051904.0     Accuracy: 0.31819448    Accuracy: 0.7752621\n",
            "Epoch 99 / 100 loss 886377760768.0     Accuracy: 0.34076345    Accuracy: 0.8076561\n",
            "Accuracy: 0.8076561\n"
          ],
          "name": "stdout"
        }
      ]
    },
    {
      "metadata": {
        "id": "QCiRoEI3uwV6",
        "colab_type": "code",
        "colab": {
          "autoexec": {
            "startup": false,
            "wait_interval": 0
          },
          "output_extras": [
            {
              "item_id": 44
            },
            {
              "item_id": 92
            },
            {
              "item_id": 140
            },
            {
              "item_id": 152
            }
          ],
          "base_uri": "https://localhost:8080/",
          "height": 2740
        },
        "outputId": "ee693d9b-0d80-42ea-f24c-7d46522d31a2",
        "executionInfo": {
          "status": "ok",
          "timestamp": 1521292045678,
          "user_tz": -210,
          "elapsed": 2189905,
          "user": {
            "displayName": "Maryam Meghdadi",
            "photoUrl": "//lh4.googleusercontent.com/-_e8noA6hVUI/AAAAAAAAAAI/AAAAAAAABDI/yWdVOp2vsL8/s50-c-k-no/photo.jpg",
            "userId": "116043109273115022182"
          }
        }
      },
      "cell_type": "code",
      "source": [
        "training(x, 150) #6 hidden layers:trainszie & others 2000/ 150 epochs/ batchsize 2048"
      ],
      "execution_count": 22,
      "outputs": [
        {
          "output_type": "stream",
          "text": [
            "WARNING:tensorflow:From <ipython-input-21-60655d078954>:3: softmax_cross_entropy_with_logits (from tensorflow.python.ops.nn_ops) is deprecated and will be removed in a future version.\n",
            "Instructions for updating:\n",
            "\n",
            "Future major versions of TensorFlow will allow gradients to flow\n",
            "into the labels input on backprop by default.\n",
            "\n",
            "See tf.nn.softmax_cross_entropy_with_logits_v2.\n",
            "\n",
            "Epoch 0 / 150 loss 568287094112256.0     Accuracy: 0.19002508    Accuracy: 0.17956042\n",
            "Epoch 1 / 150 loss 127385026953216.0     Accuracy: 0.2610755    Accuracy: 0.26399386\n",
            "Epoch 2 / 150 loss 72394938253312.0     Accuracy: 0.21955976    Accuracy: 0.22355358\n",
            "Epoch 3 / 150 loss 39223367434240.0     Accuracy: 0.24547228    Accuracy: 0.26138145\n",
            "Epoch 4 / 150 loss 27327851528192.0     Accuracy: 0.25606018    Accuracy: 0.29746768\n",
            "Epoch 5 / 150 loss 22784400031744.0     Accuracy: 0.25438842    Accuracy: 0.30767354\n",
            "Epoch 6 / 150 loss 24098288304128.0     Accuracy: 0.27946502    Accuracy: 0.3338326\n",
            "Epoch 7 / 150 loss 23850762108928.0     Accuracy: 0.30064085    Accuracy: 0.3739594\n",
            "Epoch 8 / 150 loss 22385642307584.0     Accuracy: 0.23544163    Accuracy: 0.3001846\n",
            "Epoch 9 / 150 loss 20468617707520.0     Accuracy: 0.31512955    Accuracy: 0.39186317\n",
            "Epoch 10 / 150 loss 22436651728896.0     Accuracy: 0.2504876    Accuracy: 0.3308022\n",
            "Epoch 11 / 150 loss 21890509307904.0     Accuracy: 0.3204235    Accuracy: 0.39367446\n",
            "Epoch 12 / 150 loss 18523178926080.0     Accuracy: 0.302034    Accuracy: 0.42589432\n",
            "Epoch 13 / 150 loss 13626589184000.0     Accuracy: 0.32850376    Accuracy: 0.44996342\n",
            "Epoch 14 / 150 loss 13870169980928.0     Accuracy: 0.3259961    Accuracy: 0.45605907\n",
            "Epoch 15 / 150 loss 10854498631680.0     Accuracy: 0.326832    Accuracy: 0.46877286\n",
            "Epoch 16 / 150 loss 9785877725184.0     Accuracy: 0.33491224    Accuracy: 0.4916925\n",
            "Epoch 17 / 150 loss 11257980977152.0     Accuracy: 0.23014767    Accuracy: 0.3506566\n",
            "Epoch 18 / 150 loss 13877021179904.0     Accuracy: 0.32181665    Accuracy: 0.46727508\n",
            "Epoch 19 / 150 loss 11811007496192.0     Accuracy: 0.3488437    Accuracy: 0.50559056\n",
            "Epoch 20 / 150 loss 9441093615616.0     Accuracy: 0.30844247    Accuracy: 0.5263506\n",
            "Epoch 21 / 150 loss 7473897963520.0     Accuracy: 0.33435497    Accuracy: 0.50987494\n",
            "Epoch 22 / 150 loss 10922489151488.0     Accuracy: 0.33546948    Accuracy: 0.48065066\n",
            "Epoch 23 / 150 loss 10639601008640.0     Accuracy: 0.2858735    Accuracy: 0.47215158\n",
            "Epoch 24 / 150 loss 14450785124352.0     Accuracy: 0.25550294    Accuracy: 0.40367132\n",
            "Epoch 25 / 150 loss 9692777840640.0     Accuracy: 0.3087211    Accuracy: 0.5157616\n",
            "Epoch 26 / 150 loss 8488269643776.0     Accuracy: 0.31178603    Accuracy: 0.53523284\n",
            "Epoch 27 / 150 loss 5560802279424.0     Accuracy: 0.32961828    Accuracy: 0.59531856\n",
            "Epoch 28 / 150 loss 4969426927616.0     Accuracy: 0.34940094    Accuracy: 0.6079278\n",
            "Epoch 29 / 150 loss 4588280086528.0     Accuracy: 0.3279465    Accuracy: 0.65446377\n",
            "Epoch 30 / 150 loss 6057928491008.0     Accuracy: 0.32320982    Accuracy: 0.61346614\n",
            "Epoch 31 / 150 loss 7584700661760.0     Accuracy: 0.28475899    Accuracy: 0.4404542\n",
            "Epoch 32 / 150 loss 7984123281408.0     Accuracy: 0.35246587    Accuracy: 0.6563795\n",
            "Epoch 33 / 150 loss 3971793813504.0     Accuracy: 0.34550014    Accuracy: 0.67477095\n",
            "Epoch 34 / 150 loss 3561658023936.0     Accuracy: 0.31178603    Accuracy: 0.6605594\n",
            "Epoch 35 / 150 loss 4504212619264.0     Accuracy: 0.3145723    Accuracy: 0.606221\n",
            "Epoch 36 / 150 loss 5496590958592.0     Accuracy: 0.35525215    Accuracy: 0.6765474\n",
            "Epoch 37 / 150 loss 3127921246208.0     Accuracy: 0.35497352    Accuracy: 0.70897627\n",
            "Epoch 38 / 150 loss 2514705367040.0     Accuracy: 0.36723322    Accuracy: 0.7493817\n",
            "Epoch 39 / 150 loss 2575039430656.0     Accuracy: 0.35775983    Accuracy: 0.6587133\n",
            "Epoch 40 / 150 loss 2835531415552.0     Accuracy: 0.3535804    Accuracy: 0.7305375\n",
            "Epoch 41 / 150 loss 3115081498624.0     Accuracy: 0.3259961    Accuracy: 0.71528095\n",
            "Epoch 42 / 150 loss 2979163684864.0     Accuracy: 0.3346336    Accuracy: 0.65878296\n"
          ],
          "name": "stdout"
        },
        {
          "output_type": "stream",
          "text": [
            "Epoch 43 / 150 loss 5182749736960.0     Accuracy: 0.33324045    Accuracy: 0.58441603\n",
            "Epoch 44 / 150 loss 4679286112256.0     Accuracy: 0.34828642    Accuracy: 0.6596538\n",
            "Epoch 45 / 150 loss 2719001174016.0     Accuracy: 0.35692394    Accuracy: 0.7431119\n",
            "Epoch 46 / 150 loss 3401254912000.0     Accuracy: 0.34522152    Accuracy: 0.70908076\n",
            "Epoch 47 / 150 loss 5999988064256.0     Accuracy: 0.3059348    Accuracy: 0.6052109\n",
            "Epoch 48 / 150 loss 5309776068608.0     Accuracy: 0.29478964    Accuracy: 0.62234837\n",
            "Epoch 49 / 150 loss 3768483545088.0     Accuracy: 0.30482027    Accuracy: 0.62510014\n",
            "Epoch 50 / 150 loss 3406648541184.0     Accuracy: 0.35246587    Accuracy: 0.7992964\n",
            "Epoch 51 / 150 loss 1955127672832.0     Accuracy: 0.36723322    Accuracy: 0.8116967\n",
            "Epoch 52 / 150 loss 1347203203072.0     Accuracy: 0.3480078    Accuracy: 0.8244453\n",
            "Epoch 53 / 150 loss 1263470264320.0     Accuracy: 0.35608804    Accuracy: 0.82005644\n",
            "Epoch 54 / 150 loss 1223939694592.0     Accuracy: 0.35330176    Accuracy: 0.83910966\n",
            "Epoch 55 / 150 loss 1213166280704.0     Accuracy: 0.31791586    Accuracy: 0.7657529\n",
            "Epoch 56 / 150 loss 1251794591744.0     Accuracy: 0.32878238    Accuracy: 0.80420774\n",
            "Epoch 57 / 150 loss 1368600244224.0     Accuracy: 0.34577876    Accuracy: 0.8169912\n",
            "Epoch 58 / 150 loss 1628351856640.0     Accuracy: 0.34550014    Accuracy: 0.78769726\n",
            "Epoch 59 / 150 loss 2155173879808.0     Accuracy: 0.3605461    Accuracy: 0.6706608\n",
            "Epoch 60 / 150 loss 2787869474816.0     Accuracy: 0.3546949    Accuracy: 0.7480581\n",
            "Epoch 61 / 150 loss 2475071651840.0     Accuracy: 0.31290054    Accuracy: 0.7416838\n",
            "Epoch 62 / 150 loss 1321416171520.0     Accuracy: 0.3700195    Accuracy: 0.8641193\n",
            "Epoch 63 / 150 loss 904763568128.0     Accuracy: 0.36277515    Accuracy: 0.88275456\n",
            "Epoch 64 / 150 loss 746318516224.0     Accuracy: 0.3661187    Accuracy: 0.90239996\n",
            "Epoch 65 / 150 loss 809486606336.0     Accuracy: 0.3585957    Accuracy: 0.89985716\n",
            "Epoch 66 / 150 loss 796855046144.0     Accuracy: 0.3652828    Accuracy: 0.8873872\n",
            "Epoch 67 / 150 loss 966023604224.0     Accuracy: 0.36361104    Accuracy: 0.87296665\n",
            "Epoch 68 / 150 loss 1150041919488.0     Accuracy: 0.34550014    Accuracy: 0.7887422\n",
            "Epoch 69 / 150 loss 1382324547584.0     Accuracy: 0.35692394    Accuracy: 0.7770734\n",
            "Epoch 70 / 150 loss 1972964110336.0     Accuracy: 0.3758707    Accuracy: 0.8020133\n",
            "Epoch 71 / 150 loss 1940894740480.0     Accuracy: 0.36946225    Accuracy: 0.7880456\n",
            "Epoch 72 / 150 loss 2096814309376.0     Accuracy: 0.34494287    Accuracy: 0.81834966\n",
            "Epoch 73 / 150 loss 1642158882816.0     Accuracy: 0.33435497    Accuracy: 0.7864433\n",
            "Epoch 74 / 150 loss 1633026318336.0     Accuracy: 0.3374199    Accuracy: 0.7770037\n",
            "Epoch 75 / 150 loss 1844157431808.0     Accuracy: 0.35803846    Accuracy: 0.8017346\n",
            "Epoch 76 / 150 loss 1810007691264.0     Accuracy: 0.36221787    Accuracy: 0.7998189\n",
            "Epoch 77 / 150 loss 1982839734272.0     Accuracy: 0.33602676    Accuracy: 0.7032986\n",
            "Epoch 78 / 150 loss 2763447222272.0     Accuracy: 0.3496796    Accuracy: 0.7469435\n",
            "Epoch 79 / 150 loss 2441190072320.0     Accuracy: 0.3633324    Accuracy: 0.78567696\n",
            "Epoch 80 / 150 loss 2801148919808.0     Accuracy: 0.35720256    Accuracy: 0.74433106\n",
            "Epoch 81 / 150 loss 2672055123968.0     Accuracy: 0.34550014    Accuracy: 0.7246856\n",
            "Epoch 82 / 150 loss 2798552875008.0     Accuracy: 0.33797714    Accuracy: 0.71099657\n",
            "Epoch 83 / 150 loss 2658700599296.0     Accuracy: 0.37503484    Accuracy: 0.7717092\n",
            "Epoch 84 / 150 loss 2392466243584.0     Accuracy: 0.33519086    Accuracy: 0.7135045\n",
            "Epoch 85 / 150 loss 2737903345664.0     Accuracy: 0.32738924    Accuracy: 0.70960325\n",
            "Epoch 86 / 150 loss 2461796810752.0     Accuracy: 0.3209808    Accuracy: 0.69904906\n",
            "Epoch 87 / 150 loss 2587624448000.0     Accuracy: 0.34271386    Accuracy: 0.72395414\n",
            "Epoch 88 / 150 loss 3078074744832.0     Accuracy: 0.33017555    Accuracy: 0.6719844\n",
            "Epoch 89 / 150 loss 3085622321152.0     Accuracy: 0.3382558    Accuracy: 0.72120243\n",
            "Epoch 90 / 150 loss 3566077304832.0     Accuracy: 0.34494287    Accuracy: 0.68469816\n"
          ],
          "name": "stdout"
        },
        {
          "output_type": "stream",
          "text": [
            "Epoch 91 / 150 loss 2766919204864.0     Accuracy: 0.34104207    Accuracy: 0.73496115\n",
            "Epoch 92 / 150 loss 2268333850624.0     Accuracy: 0.36166063    Accuracy: 0.76408094\n",
            "Epoch 93 / 150 loss 2812251545600.0     Accuracy: 0.361382    Accuracy: 0.77400815\n",
            "Epoch 94 / 150 loss 2765296246784.0     Accuracy: 0.37029815    Accuracy: 0.7868961\n",
            "Epoch 95 / 150 loss 2661015207936.0     Accuracy: 0.36974087    Accuracy: 0.81949914\n",
            "Epoch 96 / 150 loss 1971115253760.0     Accuracy: 0.38478684    Accuracy: 0.8489672\n",
            "Epoch 97 / 150 loss 1567045435392.0     Accuracy: 0.36890498    Accuracy: 0.8657912\n",
            "Epoch 98 / 150 loss 847119306752.0     Accuracy: 0.36890498    Accuracy: 0.8960953\n",
            "Epoch 99 / 150 loss 516860203008.0     Accuracy: 0.38005015    Accuracy: 0.91891044\n",
            "Epoch 100 / 150 loss 459657730048.0     Accuracy: 0.37308443    Accuracy: 0.9102024\n",
            "Epoch 101 / 150 loss 624675147776.0     Accuracy: 0.37224853    Accuracy: 0.9117002\n",
            "Epoch 102 / 150 loss 580964063232.0     Accuracy: 0.36221787    Accuracy: 0.890557\n",
            "Epoch 103 / 150 loss 670075674624.0     Accuracy: 0.371134    Accuracy: 0.9006235\n",
            "Epoch 104 / 150 loss 775625689088.0     Accuracy: 0.35608804    Accuracy: 0.873106\n",
            "Epoch 105 / 150 loss 639858952192.0     Accuracy: 0.36667594    Accuracy: 0.8772162\n",
            "Epoch 106 / 150 loss 779202949120.0     Accuracy: 0.37419894    Accuracy: 0.89874256\n",
            "Epoch 107 / 150 loss 702937397248.0     Accuracy: 0.36305377    Accuracy: 0.86499006\n",
            "Epoch 108 / 150 loss 771357270016.0     Accuracy: 0.35831708    Accuracy: 0.8540876\n",
            "Epoch 109 / 150 loss 756732846080.0     Accuracy: 0.36221787    Accuracy: 0.862517\n",
            "Epoch 110 / 150 loss 761688494080.0     Accuracy: 0.3633324    Accuracy: 0.8663485\n",
            "Epoch 111 / 150 loss 724018266112.0     Accuracy: 0.37336305    Accuracy: 0.8706329\n",
            "Epoch 112 / 150 loss 825644949504.0     Accuracy: 0.35887435    Accuracy: 0.8503605\n",
            "Epoch 113 / 150 loss 722039601152.0     Accuracy: 0.3507941    Accuracy: 0.8519976\n",
            "Epoch 114 / 150 loss 886567694336.0     Accuracy: 0.35636666    Accuracy: 0.8297398\n",
            "Epoch 115 / 150 loss 786074789888.0     Accuracy: 0.35664532    Accuracy: 0.8315859\n",
            "Epoch 116 / 150 loss 764687222784.0     Accuracy: 0.32906103    Accuracy: 0.7779442\n",
            "Epoch 117 / 150 loss 886885488640.0     Accuracy: 0.35664532    Accuracy: 0.849838\n",
            "Epoch 118 / 150 loss 764572696576.0     Accuracy: 0.3298969    Accuracy: 0.76331466\n",
            "Epoch 119 / 150 loss 907520661504.0     Accuracy: 0.35803846    Accuracy: 0.8270229\n",
            "Epoch 120 / 150 loss 717445937152.0     Accuracy: 0.32571748    Accuracy: 0.7644641\n",
            "Epoch 121 / 150 loss 942369449984.0     Accuracy: 0.33045417    Accuracy: 0.7707339\n",
            "Epoch 122 / 150 loss 838029950976.0     Accuracy: 0.35441628    Accuracy: 0.8296353\n",
            "Epoch 123 / 150 loss 1455534387200.0     Accuracy: 0.37559208    Accuracy: 0.8440907\n",
            "Epoch 124 / 150 loss 845589669888.0     Accuracy: 0.35748118    Accuracy: 0.8471211\n",
            "Epoch 125 / 150 loss 1065163225088.0     Accuracy: 0.34466425    Accuracy: 0.82364416\n",
            "Epoch 126 / 150 loss 908309983232.0     Accuracy: 0.36974087    Accuracy: 0.8889895\n",
            "Epoch 127 / 150 loss 1092416192512.0     Accuracy: 0.3747562    Accuracy: 0.8790623\n",
            "Epoch 128 / 150 loss 879774224384.0     Accuracy: 0.3633324    Accuracy: 0.8510223\n",
            "Epoch 129 / 150 loss 1017599653888.0     Accuracy: 0.36166063    Accuracy: 0.8789927\n",
            "Epoch 130 / 150 loss 902386337792.0     Accuracy: 0.35915297    Accuracy: 0.8832422\n",
            "Epoch 131 / 150 loss 941393844224.0     Accuracy: 0.3594316    Accuracy: 0.8615765\n",
            "Epoch 132 / 150 loss 842927140864.0     Accuracy: 0.36082473    Accuracy: 0.8837647\n",
            "Epoch 133 / 150 loss 816233893888.0     Accuracy: 0.3471719    Accuracy: 0.87296665\n",
            "Epoch 134 / 150 loss 782311532544.0     Accuracy: 0.3499582    Accuracy: 0.8671845\n",
            "Epoch 135 / 150 loss 602758477824.0     Accuracy: 0.36193925    Accuracy: 0.88968617\n",
            "Epoch 136 / 150 loss 486114697216.0     Accuracy: 0.35580942    Accuracy: 0.874778\n",
            "Epoch 137 / 150 loss 402199959552.0     Accuracy: 0.37336305    Accuracy: 0.9302658\n",
            "Epoch 138 / 150 loss 462006778880.0     Accuracy: 0.36946225    Accuracy: 0.9184576\n"
          ],
          "name": "stdout"
        },
        {
          "output_type": "stream",
          "text": [
            "Epoch 139 / 150 loss 557726297088.0     Accuracy: 0.3488437    Accuracy: 0.8657215\n",
            "Epoch 140 / 150 loss 461751539712.0     Accuracy: 0.3747562    Accuracy: 0.92841965\n",
            "Epoch 141 / 150 loss 577191495680.0     Accuracy: 0.37308443    Accuracy: 0.9064753\n",
            "Epoch 142 / 150 loss 432522502144.0     Accuracy: 0.36779046    Accuracy: 0.9238566\n",
            "Epoch 143 / 150 loss 631774695424.0     Accuracy: 0.36834773    Accuracy: 0.90772927\n",
            "Epoch 144 / 150 loss 536411943936.0     Accuracy: 0.37726387    Accuracy: 0.935003\n",
            "Epoch 145 / 150 loss 650707536896.0     Accuracy: 0.36221787    Accuracy: 0.8964436\n",
            "Epoch 146 / 150 loss 542372388864.0     Accuracy: 0.36249653    Accuracy: 0.9120833\n",
            "Epoch 147 / 150 loss 754130415616.0     Accuracy: 0.38311508    Accuracy: 0.90940124\n",
            "Epoch 148 / 150 loss 596806535168.0     Accuracy: 0.378657    Accuracy: 0.9237521\n",
            "Epoch 149 / 150 loss 740047366144.0     Accuracy: 0.36277515    Accuracy: 0.8795848\n",
            "Accuracy: 0.8795848\n"
          ],
          "name": "stdout"
        }
      ]
    },
    {
      "metadata": {
        "id": "O7tAFnSl7M33",
        "colab_type": "code",
        "colab": {
          "autoexec": {
            "startup": false,
            "wait_interval": 0
          },
          "output_extras": [
            {
              "item_id": 47
            },
            {
              "item_id": 95
            },
            {
              "item_id": 98
            }
          ],
          "base_uri": "https://localhost:8080/",
          "height": 1700
        },
        "outputId": "d7059a83-22de-43c2-d6de-db2e650e0b7f",
        "executionInfo": {
          "status": "ok",
          "timestamp": 1521294009525,
          "user_tz": -210,
          "elapsed": 1556731,
          "user": {
            "displayName": "Maryam Meghdadi",
            "photoUrl": "//lh4.googleusercontent.com/-_e8noA6hVUI/AAAAAAAAAAI/AAAAAAAABDI/yWdVOp2vsL8/s50-c-k-no/photo.jpg",
            "userId": "116043109273115022182"
          }
        }
      },
      "cell_type": "code",
      "source": [
        "training(x, 100) #6 hidden layers:trainszie & others 2000/ 100 epochs/ batchsize 1024"
      ],
      "execution_count": 24,
      "outputs": [
        {
          "output_type": "stream",
          "text": [
            "Epoch 0 / 100 loss 636695020044288.0     Accuracy: 0.1816662    Accuracy: 0.18823366\n",
            "Epoch 1 / 100 loss 133536592953344.0     Accuracy: 0.26330453    Accuracy: 0.28109652\n",
            "Epoch 2 / 100 loss 61133272121344.0     Accuracy: 0.30091947    Accuracy: 0.33181232\n",
            "Epoch 3 / 100 loss 49110426320896.0     Accuracy: 0.2752856    Accuracy: 0.32780662\n",
            "Epoch 4 / 100 loss 46546572017664.0     Accuracy: 0.2513235    Accuracy: 0.3367585\n",
            "Epoch 5 / 100 loss 30647151165440.0     Accuracy: 0.29506826    Accuracy: 0.40457696\n",
            "Epoch 6 / 100 loss 24526555119616.0     Accuracy: 0.28698802    Accuracy: 0.4210178\n",
            "Epoch 7 / 100 loss 45881168297984.0     Accuracy: 0.2783505    Accuracy: 0.38183147\n",
            "Epoch 8 / 100 loss 34811285733376.0     Accuracy: 0.30565616    Accuracy: 0.40109372\n",
            "Epoch 9 / 100 loss 26945691123712.0     Accuracy: 0.29869044    Accuracy: 0.44780383\n",
            "Epoch 10 / 100 loss 26718660001792.0     Accuracy: 0.25494567    Accuracy: 0.3988993\n",
            "Epoch 11 / 100 loss 23151983853568.0     Accuracy: 0.26553357    Accuracy: 0.42380437\n",
            "Epoch 12 / 100 loss 19652249321472.0     Accuracy: 0.27974367    Accuracy: 0.49242398\n",
            "Epoch 13 / 100 loss 14814439636992.0     Accuracy: 0.29869044    Accuracy: 0.53136647\n",
            "Epoch 14 / 100 loss 13053451894784.0     Accuracy: 0.31039286    Accuracy: 0.5755338\n",
            "Epoch 15 / 100 loss 14123225317376.0     Accuracy: 0.31903037    Accuracy: 0.5751158\n",
            "Epoch 16 / 100 loss 15500738658304.0     Accuracy: 0.32265255    Accuracy: 0.5508029\n",
            "Epoch 17 / 100 loss 11424839892992.0     Accuracy: 0.3488437    Accuracy: 0.6043401\n",
            "Epoch 18 / 100 loss 10248577974272.0     Accuracy: 0.29952633    Accuracy: 0.54313976\n",
            "Epoch 19 / 100 loss 10355172900864.0     Accuracy: 0.28754526    Accuracy: 0.55689853\n",
            "Epoch 21 / 100 loss 13230155956224.0     Accuracy: 0.30370578    Accuracy: 0.5682539\n",
            "Epoch 22 / 100 loss 11224019812352.0     Accuracy: 0.34159935    Accuracy: 0.54522973\n",
            "Epoch 23 / 100 loss 14156178915328.0     Accuracy: 0.3385344    Accuracy: 0.5879341\n",
            "Epoch 24 / 100 loss 10243594911744.0     Accuracy: 0.2811368    Accuracy: 0.574872\n",
            "Epoch 25 / 100 loss 7126687219712.0     Accuracy: 0.32878238    Accuracy: 0.7003379\n",
            "Epoch 26 / 100 loss 6256875323392.0     Accuracy: 0.32543883    Accuracy: 0.70256716\n",
            "Epoch 27 / 100 loss 5535628623872.0     Accuracy: 0.30259126    Accuracy: 0.64303875\n",
            "Epoch 28 / 100 loss 5174175580160.0     Accuracy: 0.31596544    Accuracy: 0.6715664\n",
            "Epoch 29 / 100 loss 5497219194880.0     Accuracy: 0.3212594    Accuracy: 0.629071\n",
            "Epoch 30 / 100 loss 5091034259456.0     Accuracy: 0.34104207    Accuracy: 0.68253857\n",
            "Epoch 31 / 100 loss 4856481595392.0     Accuracy: 0.344107    Accuracy: 0.6829914\n",
            "Epoch 32 / 100 loss 6025341050880.0     Accuracy: 0.34048483    Accuracy: 0.69525236\n",
            "Epoch 33 / 100 loss 6051903635456.0     Accuracy: 0.3413207    Accuracy: 0.67724407\n",
            "Epoch 34 / 100 loss 7026402598912.0     Accuracy: 0.31095013    Accuracy: 0.6538368\n",
            "Epoch 35 / 100 loss 6165435629568.0     Accuracy: 0.3220953    Accuracy: 0.6660281\n",
            "Epoch 36 / 100 loss 6474347651072.0     Accuracy: 0.3279465    Accuracy: 0.7205406\n",
            "Epoch 37 / 100 loss 5738038140928.0     Accuracy: 0.30899972    Accuracy: 0.6895747\n",
            "Epoch 38 / 100 loss 5574763790336.0     Accuracy: 0.33797714    Accuracy: 0.6776969\n",
            "Epoch 39 / 100 loss 5263563603968.0     Accuracy: 0.3530231    Accuracy: 0.7249991\n",
            "Epoch 40 / 100 loss 5269635211264.0     Accuracy: 0.35775983    Accuracy: 0.7704901\n",
            "Epoch 41 / 100 loss 5088842948608.0     Accuracy: 0.33992755    Accuracy: 0.72343165\n",
            "Epoch 42 / 100 loss 4629301379072.0     Accuracy: 0.3307328    Accuracy: 0.6733429\n",
            "Epoch 43 / 100 loss 6451273400320.0     Accuracy: 0.3385344    Accuracy: 0.7340555\n",
            "Epoch 44 / 100 loss 5216849575936.0     Accuracy: 0.34299248    Accuracy: 0.7040649\n",
            "Epoch 45 / 100 loss 6261814845440.0     Accuracy: 0.35246587    Accuracy: 0.6865443\n",
            "Epoch 46 / 100 loss 6687930261504.0     Accuracy: 0.35915297    Accuracy: 0.66825736\n",
            "Epoch 47 / 100 loss 6303214862336.0     Accuracy: 0.3652828    Accuracy: 0.6846285\n",
            "Epoch 48 / 100 loss 6977121714176.0     Accuracy: 0.35608804    Accuracy: 0.6833745\n"
          ],
          "name": "stdout"
        },
        {
          "output_type": "stream",
          "text": [
            "Epoch 49 / 100 loss 6757832523776.0     Accuracy: 0.35803846    Accuracy: 0.7387579\n",
            "Epoch 50 / 100 loss 5660119793664.0     Accuracy: 0.3585957    Accuracy: 0.73193073\n",
            "Epoch 51 / 100 loss 4548372709376.0     Accuracy: 0.36946225    Accuracy: 0.774461\n",
            "Epoch 52 / 100 loss 3465382445056.0     Accuracy: 0.36723322    Accuracy: 0.8292173\n",
            "Epoch 53 / 100 loss 2448008302592.0     Accuracy: 0.3716913    Accuracy: 0.84370756\n",
            "Epoch 54 / 100 loss 1696877350912.0     Accuracy: 0.36974087    Accuracy: 0.8461806\n",
            "Epoch 55 / 100 loss 1473822920704.0     Accuracy: 0.37614936    Accuracy: 0.85882473\n",
            "Epoch 56 / 100 loss 1518358069248.0     Accuracy: 0.37447757    Accuracy: 0.8708767\n",
            "Epoch 57 / 100 loss 1640622211072.0     Accuracy: 0.37782112    Accuracy: 0.8562472\n",
            "Epoch 58 / 100 loss 1460276666368.0     Accuracy: 0.36639732    Accuracy: 0.8635619\n",
            "Epoch 59 / 100 loss 1707772116992.0     Accuracy: 0.37224853    Accuracy: 0.84586716\n",
            "Epoch 60 / 100 loss 1868472967168.0     Accuracy: 0.36751184    Accuracy: 0.81946427\n",
            "Epoch 61 / 100 loss 2178883792896.0     Accuracy: 0.36667594    Accuracy: 0.7827162\n",
            "Epoch 62 / 100 loss 2487270293504.0     Accuracy: 0.35915297    Accuracy: 0.7627225\n",
            "Epoch 63 / 100 loss 2659568467968.0     Accuracy: 0.36361104    Accuracy: 0.823261\n",
            "Epoch 64 / 100 loss 2663340998656.0     Accuracy: 0.36361104    Accuracy: 0.7901355\n",
            "Epoch 65 / 100 loss 2627663101952.0     Accuracy: 0.35023683    Accuracy: 0.77498347\n",
            "Epoch 66 / 100 loss 2422177103872.0     Accuracy: 0.33240458    Accuracy: 0.76557875\n",
            "Epoch 67 / 100 loss 2252104626176.0     Accuracy: 0.34271386    Accuracy: 0.7881152\n",
            "Epoch 68 / 100 loss 2398394040320.0     Accuracy: 0.3585957    Accuracy: 0.8187676\n",
            "Epoch 69 / 100 loss 2098118520832.0     Accuracy: 0.37252715    Accuracy: 0.8546797\n",
            "Epoch 70 / 100 loss 2105371389952.0     Accuracy: 0.36556143    Accuracy: 0.83851755\n",
            "Epoch 71 / 100 loss 2369252442112.0     Accuracy: 0.378657    Accuracy: 0.85137063\n",
            "Epoch 72 / 100 loss 1889632231424.0     Accuracy: 0.3700195    Accuracy: 0.81437874\n",
            "Epoch 73 / 100 loss 2059228700672.0     Accuracy: 0.36388966    Accuracy: 0.812254\n",
            "Epoch 74 / 100 loss 1959073247232.0     Accuracy: 0.3652828    Accuracy: 0.79776376\n",
            "Epoch 75 / 100 loss 1872545970176.0     Accuracy: 0.36584008    Accuracy: 0.7992964\n",
            "Epoch 76 / 100 loss 1955015505920.0     Accuracy: 0.36667594    Accuracy: 0.8132293\n",
            "Epoch 77 / 100 loss 1816252297216.0     Accuracy: 0.3825578    Accuracy: 0.8726183\n",
            "Epoch 78 / 100 loss 1569168703488.0     Accuracy: 0.3814433    Accuracy: 0.8757184\n",
            "Epoch 79 / 100 loss 1405040291840.0     Accuracy: 0.36918363    Accuracy: 0.85955626\n",
            "Epoch 80 / 100 loss 1130658142208.0     Accuracy: 0.3747562    Accuracy: 0.8539134\n",
            "Epoch 81 / 100 loss 1138184245248.0     Accuracy: 0.36890498    Accuracy: 0.868334\n",
            "Epoch 82 / 100 loss 1357275607040.0     Accuracy: 0.36723322    Accuracy: 0.8504302\n",
            "Epoch 83 / 100 loss 1594526877696.0     Accuracy: 0.38645864    Accuracy: 0.8616462\n",
            "Epoch 84 / 100 loss 1419276253184.0     Accuracy: 0.38562274    Accuracy: 0.86032254\n",
            "Epoch 85 / 100 loss 1612019777536.0     Accuracy: 0.3822792    Accuracy: 0.81218433\n",
            "Epoch 86 / 100 loss 1564532582400.0     Accuracy: 0.37308443    Accuracy: 0.8025358\n",
            "Epoch 87 / 100 loss 1519657992192.0     Accuracy: 0.37921426    Accuracy: 0.8399457\n",
            "Epoch 89 / 100 loss 1303068837888.0     Accuracy: 0.38005015    Accuracy: 0.8822669\n",
            "Epoch 90 / 100 loss 1333919737856.0     Accuracy: 0.38701588    Accuracy: 0.86087984\n",
            "Epoch 91 / 100 loss 1385861527552.0     Accuracy: 0.37308443    Accuracy: 0.87979376\n",
            "Epoch 92 / 100 loss 1537926721536.0     Accuracy: 0.34494287    Accuracy: 0.8445783\n",
            "Epoch 93 / 100 loss 1702141382656.0     Accuracy: 0.37252715    Accuracy: 0.8699014\n",
            "Epoch 94 / 100 loss 1451306461184.0     Accuracy: 0.36193925    Accuracy: 0.8746386\n",
            "Epoch 95 / 100 loss 1847544920064.0     Accuracy: 0.3700195    Accuracy: 0.8638058\n",
            "Epoch 96 / 100 loss 1812284153856.0     Accuracy: 0.36918363    Accuracy: 0.88136125\n",
            "Epoch 97 / 100 loss 1650668818432.0     Accuracy: 0.3728058    Accuracy: 0.8739768\n"
          ],
          "name": "stdout"
        },
        {
          "output_type": "stream",
          "text": [
            "Epoch 98 / 100 loss 1893685362688.0     Accuracy: 0.3496796    Accuracy: 0.8176182\n",
            "Epoch 99 / 100 loss 1763097159680.0     Accuracy: 0.36834773    Accuracy: 0.84210527\n",
            "Accuracy: 0.84210527\n"
          ],
          "name": "stdout"
        }
      ]
    },
    {
      "metadata": {
        "id": "2p1OWTYnGKOA",
        "colab_type": "code",
        "colab": {
          "autoexec": {
            "startup": false,
            "wait_interval": 0
          },
          "output_extras": [
            {
              "item_id": 44
            },
            {
              "item_id": 91
            },
            {
              "item_id": 98
            }
          ],
          "base_uri": "https://localhost:8080/",
          "height": 1856
        },
        "outputId": "bf03ff7b-d761-4d02-a78e-53b848dacf9f",
        "executionInfo": {
          "status": "ok",
          "timestamp": 1521297766534,
          "user_tz": -210,
          "elapsed": 1411186,
          "user": {
            "displayName": "Maryam Meghdadi",
            "photoUrl": "//lh4.googleusercontent.com/-_e8noA6hVUI/AAAAAAAAAAI/AAAAAAAABDI/yWdVOp2vsL8/s50-c-k-no/photo.jpg",
            "userId": "116043109273115022182"
          }
        }
      },
      "cell_type": "code",
      "source": [
        "training(x, 100) #6 hidden layers:trainszie & others 2000/ 100 epochs/ batchsize 3072"
      ],
      "execution_count": 22,
      "outputs": [
        {
          "output_type": "stream",
          "text": [
            "WARNING:tensorflow:From <ipython-input-21-2b4344bdcee4>:3: softmax_cross_entropy_with_logits (from tensorflow.python.ops.nn_ops) is deprecated and will be removed in a future version.\n",
            "Instructions for updating:\n",
            "\n",
            "Future major versions of TensorFlow will allow gradients to flow\n",
            "into the labels input on backprop by default.\n",
            "\n",
            "See tf.nn.softmax_cross_entropy_with_logits_v2.\n",
            "\n",
            "Epoch 0 / 100 loss 492581072928768.0     Accuracy: 0.13151295    Accuracy: 0.14291686\n",
            "Epoch 1 / 100 loss 185564222980096.0     Accuracy: 0.17804402    Accuracy: 0.17252429\n",
            "Epoch 2 / 100 loss 85334469640192.0     Accuracy: 0.19086096    Accuracy: 0.20523182\n",
            "Epoch 3 / 100 loss 56979365298176.0     Accuracy: 0.19866258    Accuracy: 0.20331603\n",
            "Epoch 4 / 100 loss 41111645323264.0     Accuracy: 0.1950404    Accuracy: 0.21338256\n",
            "Epoch 5 / 100 loss 27762928386048.0     Accuracy: 0.25020897    Accuracy: 0.2767425\n",
            "Epoch 6 / 100 loss 20979080626176.0     Accuracy: 0.2646977    Accuracy: 0.29311365\n",
            "Epoch 7 / 100 loss 16505719881728.0     Accuracy: 0.27946502    Accuracy: 0.3079174\n",
            "Epoch 8 / 100 loss 14872712052736.0     Accuracy: 0.29757592    Accuracy: 0.33602703\n",
            "Epoch 9 / 100 loss 13076313014272.0     Accuracy: 0.29033157    Accuracy: 0.33682817\n",
            "Epoch 10 / 100 loss 11498927292416.0     Accuracy: 0.3031485    Accuracy: 0.35880736\n",
            "Epoch 11 / 100 loss 10234630307840.0     Accuracy: 0.30008358    Accuracy: 0.37552685\n",
            "Epoch 12 / 100 loss 9393127686144.0     Accuracy: 0.29478964    Accuracy: 0.3805775\n",
            "Epoch 13 / 100 loss 8791961436160.0     Accuracy: 0.2839231    Accuracy: 0.37695497\n",
            "Epoch 14 / 100 loss 8865375846400.0     Accuracy: 0.27946502    Accuracy: 0.38420007\n",
            "Epoch 15 / 100 loss 8581297078272.0     Accuracy: 0.29896906    Accuracy: 0.4155143\n",
            "Epoch 16 / 100 loss 9108361445376.0     Accuracy: 0.29952633    Accuracy: 0.3908879\n",
            "Epoch 17 / 100 loss 8420298129408.0     Accuracy: 0.28865978    Accuracy: 0.41924134\n",
            "Epoch 18 / 100 loss 7068631171072.0     Accuracy: 0.31512955    Accuracy: 0.44414642\n",
            "Epoch 19 / 100 loss 6992342286336.0     Accuracy: 0.3240457    Accuracy: 0.48138213\n",
            "Epoch 20 / 100 loss 7849215721472.0     Accuracy: 0.26330453    Accuracy: 0.38468772\n",
            "Epoch 21 / 100 loss 20205537722368.0     Accuracy: 0.29952633    Accuracy: 0.37326273\n",
            "Epoch 22 / 100 loss 22047121080320.0     Accuracy: 0.20228475    Accuracy: 0.25622627\n",
            "Epoch 23 / 100 loss 15207480885248.0     Accuracy: 0.2371134    Accuracy: 0.32742345\n",
            "Epoch 24 / 100 loss 11128737497088.0     Accuracy: 0.2465868    Accuracy: 0.37131214\n",
            "Epoch 25 / 100 loss 8792424710144.0     Accuracy: 0.29478964    Accuracy: 0.44174302\n",
            "Epoch 26 / 100 loss 7277097713664.0     Accuracy: 0.3326832    Accuracy: 0.5183392\n",
            "Epoch 27 / 100 loss 5708761235456.0     Accuracy: 0.32850376    Accuracy: 0.52453935\n",
            "Epoch 28 / 100 loss 4935233404928.0     Accuracy: 0.3279465    Accuracy: 0.5323766\n",
            "Epoch 29 / 100 loss 4373437186048.0     Accuracy: 0.3240457    Accuracy: 0.5693685\n",
            "Epoch 30 / 100 loss 3796542291968.0     Accuracy: 0.32906103    Accuracy: 0.54098016\n",
            "Epoch 31 / 100 loss 3958929424384.0     Accuracy: 0.31986627    Accuracy: 0.54411507\n",
            "Epoch 32 / 100 loss 4529304207360.0     Accuracy: 0.3106715    Accuracy: 0.46048278\n",
            "Epoch 33 / 100 loss 8309448081408.0     Accuracy: 0.25968236    Accuracy: 0.3435508\n",
            "Epoch 34 / 100 loss 10508060131328.0     Accuracy: 0.3318473    Accuracy: 0.5054861\n",
            "Epoch 35 / 100 loss 7108373970944.0     Accuracy: 0.3259961    Accuracy: 0.53666097\n",
            "Epoch 36 / 100 loss 4836504895488.0     Accuracy: 0.32655334    Accuracy: 0.5656763\n",
            "Epoch 37 / 100 loss 4170344595456.0     Accuracy: 0.3220953    Accuracy: 0.58915323\n",
            "Epoch 38 / 100 loss 4266112319488.0     Accuracy: 0.30147675    Accuracy: 0.5270473\n",
            "Epoch 39 / 100 loss 6040324505600.0     Accuracy: 0.302034    Accuracy: 0.5596851\n",
            "Epoch 40 / 100 loss 6047567872000.0     Accuracy: 0.30482027    Accuracy: 0.5766833\n",
            "Epoch 41 / 100 loss 4282260226048.0     Accuracy: 0.27082753    Accuracy: 0.52408653\n",
            "Epoch 42 / 100 loss 3551390760960.0     Accuracy: 0.3078852    Accuracy: 0.6257271\n"
          ],
          "name": "stdout"
        },
        {
          "output_type": "stream",
          "text": [
            "Epoch 43 / 100 loss 3571299516416.0     Accuracy: 0.29980496    Accuracy: 0.56163573\n",
            "Epoch 44 / 100 loss 3547704918016.0     Accuracy: 0.31401506    Accuracy: 0.65885264\n",
            "Epoch 45 / 100 loss 2526218911744.0     Accuracy: 0.31624407    Accuracy: 0.66048974\n",
            "Epoch 46 / 100 loss 2532957552640.0     Accuracy: 0.32655334    Accuracy: 0.6553346\n",
            "Epoch 47 / 100 loss 2879960465408.0     Accuracy: 0.326832    Accuracy: 0.64460623\n",
            "Epoch 48 / 100 loss 2622302076928.0     Accuracy: 0.33407634    Accuracy: 0.68724096\n",
            "Epoch 49 / 100 loss 2062865022976.0     Accuracy: 0.33351907    Accuracy: 0.68522066\n",
            "Epoch 50 / 100 loss 1902304198656.0     Accuracy: 0.3346336    Accuracy: 0.679543\n",
            "Epoch 51 / 100 loss 2096464052224.0     Accuracy: 0.3471719    Accuracy: 0.7161517\n",
            "Epoch 52 / 100 loss 2583549263872.0     Accuracy: 0.32348844    Accuracy: 0.60597724\n",
            "Epoch 53 / 100 loss 3093946269696.0     Accuracy: 0.33686262    Accuracy: 0.7119719\n",
            "Epoch 54 / 100 loss 2133115043840.0     Accuracy: 0.34187797    Accuracy: 0.7331151\n",
            "Epoch 55 / 100 loss 1816889376768.0     Accuracy: 0.32627472    Accuracy: 0.70800096\n",
            "Epoch 56 / 100 loss 1952897892352.0     Accuracy: 0.31958762    Accuracy: 0.68985337\n",
            "Epoch 57 / 100 loss 3010809593856.0     Accuracy: 0.31011423    Accuracy: 0.64882094\n",
            "Epoch 58 / 100 loss 2924428132352.0     Accuracy: 0.336584    Accuracy: 0.76927096\n",
            "Epoch 59 / 100 loss 2146950594560.0     Accuracy: 0.31903037    Accuracy: 0.68421054\n",
            "Epoch 60 / 100 loss 1939833683968.0     Accuracy: 0.32265255    Accuracy: 0.7453064\n",
            "Epoch 61 / 100 loss 1308457377792.0     Accuracy: 0.32181665    Accuracy: 0.72008777\n",
            "Epoch 62 / 100 loss 1392649625600.0     Accuracy: 0.3209808    Accuracy: 0.72263056\n",
            "Epoch 63 / 100 loss 2067023282176.0     Accuracy: 0.32933965    Accuracy: 0.7463165\n",
            "Epoch 64 / 100 loss 2226545688576.0     Accuracy: 0.30008358    Accuracy: 0.6637988\n",
            "Epoch 65 / 100 loss 2219580309504.0     Accuracy: 0.30342713    Accuracy: 0.64314324\n",
            "Epoch 66 / 100 loss 3214465925120.0     Accuracy: 0.32627472    Accuracy: 0.6770699\n",
            "Epoch 67 / 100 loss 2243238043648.0     Accuracy: 0.34550014    Accuracy: 0.74871993\n",
            "Epoch 68 / 100 loss 1542800261120.0     Accuracy: 0.33714128    Accuracy: 0.7422063\n",
            "Epoch 69 / 100 loss 1488607174656.0     Accuracy: 0.36193925    Accuracy: 0.77261484\n",
            "Epoch 70 / 100 loss 1684454154240.0     Accuracy: 0.35664532    Accuracy: 0.64561635\n",
            "Epoch 71 / 100 loss 2506868858880.0     Accuracy: 0.361382    Accuracy: 0.70183563\n",
            "Epoch 72 / 100 loss 1999933849600.0     Accuracy: 0.3310114    Accuracy: 0.7775959\n",
            "Epoch 73 / 100 loss 1379503382528.0     Accuracy: 0.32293117    Accuracy: 0.7857118\n",
            "Epoch 74 / 100 loss 797181833216.0     Accuracy: 0.34550014    Accuracy: 0.8467031\n",
            "Epoch 75 / 100 loss 629758373888.0     Accuracy: 0.36361104    Accuracy: 0.8442997\n",
            "Epoch 76 / 100 loss 576720031744.0     Accuracy: 0.35107273    Accuracy: 0.85809326\n",
            "Epoch 77 / 100 loss 485573189632.0     Accuracy: 0.35413763    Accuracy: 0.8779129\n",
            "Epoch 78 / 100 loss 452920516608.0     Accuracy: 0.3488437    Accuracy: 0.856909\n",
            "Epoch 79 / 100 loss 742105759744.0     Accuracy: 0.3605461    Accuracy: 0.8494201\n",
            "Epoch 80 / 100 loss 955452805120.0     Accuracy: 0.36751184    Accuracy: 0.80960673\n",
            "Epoch 81 / 100 loss 1521263853568.0     Accuracy: 0.3644469    Accuracy: 0.76505625\n",
            "Epoch 82 / 100 loss 941498785792.0     Accuracy: 0.3680691    Accuracy: 0.8315511\n",
            "Epoch 83 / 100 loss 823538597888.0     Accuracy: 0.32320982    Accuracy: 0.761573\n",
            "Epoch 84 / 100 loss 1263847784448.0     Accuracy: 0.3154082    Accuracy: 0.76394165\n",
            "Epoch 85 / 100 loss 1854836219904.0     Accuracy: 0.31011423    Accuracy: 0.651712\n",
            "Epoch 86 / 100 loss 3357795516416.0     Accuracy: 0.3393703    Accuracy: 0.6659584\n",
            "Epoch 87 / 100 loss 1569302659072.0     Accuracy: 0.35413763    Accuracy: 0.7584381\n",
            "Epoch 88 / 100 loss 870102831104.0     Accuracy: 0.35023683    Accuracy: 0.84708625\n",
            "Epoch 90 / 100 loss 490448986112.0     Accuracy: 0.36667594    Accuracy: 0.89512\n",
            "Epoch 91 / 100 loss 414176352256.0     Accuracy: 0.37336305    Accuracy: 0.9010763\n"
          ],
          "name": "stdout"
        },
        {
          "output_type": "stream",
          "text": [
            "Epoch 92 / 100 loss 453473054720.0     Accuracy: 0.33351907    Accuracy: 0.85231113\n",
            "Epoch 93 / 100 loss 504677523456.0     Accuracy: 0.35413763    Accuracy: 0.8979414\n",
            "Epoch 95 / 100 loss 358487027712.0     Accuracy: 0.35748118    Accuracy: 0.9047685\n",
            "Epoch 96 / 100 loss 318653429760.0     Accuracy: 0.36556143    Accuracy: 0.84384686\n",
            "Epoch 97 / 100 loss 382161924096.0     Accuracy: 0.3700195    Accuracy: 0.8719565\n",
            "Epoch 98 / 100 loss 421301616640.0     Accuracy: 0.34382835    Accuracy: 0.89936954\n",
            "Epoch 99 / 100 loss 418318217216.0     Accuracy: 0.31317917    Accuracy: 0.80100316\n",
            "Accuracy: 0.80100316\n"
          ],
          "name": "stdout"
        }
      ]
    },
    {
      "metadata": {
        "id": "WnvD1KUWO5QX",
        "colab_type": "code",
        "colab": {
          "autoexec": {
            "startup": false,
            "wait_interval": 0
          }
        }
      },
      "cell_type": "code",
      "source": [
        ""
      ],
      "execution_count": 0,
      "outputs": []
    }
  ]
}