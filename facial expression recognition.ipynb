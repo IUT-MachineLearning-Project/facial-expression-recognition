{
 "cells": [
  {
   "cell_type": "code",
   "execution_count": 111,
   "metadata": {
    "collapsed": true
   },
   "outputs": [],
   "source": [
    "import matplotlib.pyplot as plt\n",
    "from mpl_toolkits.mplot3d import Axes3D\n",
    "from sklearn import datasets\n",
    "from sklearn.decomposition import PCA\n",
    "import pandas as pd\n",
    "import numpy as np\n",
    "from matplotlib import pyplot as plt\n",
    "from sklearn.linear_model import LogisticRegression\n",
    "import seaborn as sns\n",
    "import matplotlib.patches as mpatches\n",
    "%matplotlib inline"
   ]
  },
  {
   "cell_type": "code",
   "execution_count": 112,
   "metadata": {
    "collapsed": false
   },
   "outputs": [],
   "source": [
    "dff = df = pd.DataFrame.from_csv('fer2013.csv', index_col=None)"
   ]
  },
  {
   "cell_type": "code",
   "execution_count": 113,
   "metadata": {
    "collapsed": false
   },
   "outputs": [],
   "source": [
    "cv = df.drop([int(k) for k in range(28709)]) #PublicTest\n",
    "cv = cv.drop([int(k) for k in range(32298, 35887)]) #PublicTest 28709,32297\n",
    "test = df.drop([int(k) for k in range(32298)]) #PrivateTest\n",
    "#test"
   ]
  },
  {
   "cell_type": "code",
   "execution_count": 114,
   "metadata": {
    "collapsed": false
   },
   "outputs": [],
   "source": [
    "df = df.drop([int(k) for k in range(28709,35887)]) #Test"
   ]
  },
  {
   "cell_type": "code",
   "execution_count": 115,
   "metadata": {
    "collapsed": false
   },
   "outputs": [],
   "source": [
    "y = df.emotion\n",
    "y_cv = cv.emotion\n",
    "y_test = test.emotion"
   ]
  },
  {
   "cell_type": "code",
   "execution_count": 116,
   "metadata": {
    "collapsed": false
   },
   "outputs": [],
   "source": [
    "df = df.drop('emotion', axis = 1)\n",
    "df = df.drop('Usage', axis = 1)\n",
    "cv = cv.drop('emotion', axis = 1)\n",
    "cv = cv.drop('Usage', axis = 1)\n",
    "test = test.drop('emotion', axis = 1)\n",
    "test = test.drop('Usage', axis = 1)\n"
   ]
  },
  {
   "cell_type": "code",
   "execution_count": 117,
   "metadata": {
    "collapsed": false
   },
   "outputs": [],
   "source": [
    "nparr = np.zeros((28709, 2304))\n",
    "nparr1 = np.zeros((3589, 2304))\n",
    "nparr2 = np.zeros((3589, 2304))"
   ]
  },
  {
   "cell_type": "code",
   "execution_count": 118,
   "metadata": {
    "collapsed": false
   },
   "outputs": [],
   "source": [
    "for i in range(28709):\n",
    "    df.pixels[i] = [int(j) for j in df.pixels[i].split()]\n",
    "    nparr[i] = np.array(df.pixels[i])"
   ]
  },
  {
   "cell_type": "code",
   "execution_count": 119,
   "metadata": {
    "collapsed": false
   },
   "outputs": [],
   "source": [
    "maindf = pd.DataFrame(nparr, columns=[int(i) for i in range(2304)])\n",
    "X = maindf"
   ]
  },
  {
   "cell_type": "code",
   "execution_count": 120,
   "metadata": {
    "collapsed": false
   },
   "outputs": [],
   "source": [
    "for i in range(28709,32298):#public\n",
    "    cv.pixels[i] = [int(j) for j in cv.pixels[i].split()]\n",
    "    nparr1[i-28709] = np.array(cv.pixels[i])"
   ]
  },
  {
   "cell_type": "code",
   "execution_count": 121,
   "metadata": {
    "collapsed": true
   },
   "outputs": [],
   "source": [
    "maincv = pd.DataFrame(nparr1, columns=[int(i) for i in range(2304)])\n",
    "X_cv = maincv"
   ]
  },
  {
   "cell_type": "code",
   "execution_count": 122,
   "metadata": {
    "collapsed": true
   },
   "outputs": [],
   "source": [
    "for i in range(32298,35887):#private\n",
    "    test.pixels[i] = [int(j) for j in test.pixels[i].split()]\n",
    "    nparr2[i-32298] = np.array(test.pixels[i])"
   ]
  },
  {
   "cell_type": "code",
   "execution_count": 123,
   "metadata": {
    "collapsed": true
   },
   "outputs": [],
   "source": [
    "maintest = pd.DataFrame(nparr2, columns=[int(i) for i in range(2304)])\n",
    "X_test = maintest"
   ]
  },
  {
   "cell_type": "code",
   "execution_count": null,
   "metadata": {
    "collapsed": true
   },
   "outputs": [],
   "source": []
  },
  {
   "cell_type": "code",
   "execution_count": null,
   "metadata": {
    "collapsed": false
   },
   "outputs": [],
   "source": [
    "#for i in range(35):\n",
    " #   plt.subplot(5,7,i+1)\n",
    "#    h = df.pixels\n",
    "#    h = [int(j) for j in h[j].split()]\n",
    "#    h = np.array(h).reshape([48,48])\n",
    "#    plt.imshow(h)\n",
    "#plt.show"
   ]
  }
 ],
 "metadata": {
  "kernelspec": {
   "display_name": "Python 3",
   "language": "python",
   "name": "python3"
  },
  "language_info": {
   "codemirror_mode": {
    "name": "ipython",
    "version": 3
   },
   "file_extension": ".py",
   "mimetype": "text/x-python",
   "name": "python",
   "nbconvert_exporter": "python",
   "pygments_lexer": "ipython3",
   "version": "3.5.3"
  }
 },
 "nbformat": 4,
 "nbformat_minor": 2
}
