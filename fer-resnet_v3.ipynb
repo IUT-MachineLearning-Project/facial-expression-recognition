{
  "nbformat": 4,
  "nbformat_minor": 0,
  "metadata": {
    "colab": {
      "name": "resnet-v3.ipynb",
      "version": "0.3.2",
      "views": {},
      "default_view": {},
      "provenance": []
    },
    "kernelspec": {
      "name": "python3",
      "display_name": "Python 3"
    },
    "accelerator": "GPU"
  },
  "cells": [
    {
      "metadata": {
        "id": "ckSX1fylfZQV",
        "colab_type": "code",
        "colab": {
          "autoexec": {
            "startup": false,
            "wait_interval": 0
          },
          "base_uri": "https://localhost:8080/",
          "height": 16
        },
        "outputId": "c99e52b1-70bc-4b68-f7ef-3a6d2eed4870",
        "executionInfo": {
          "status": "ok",
          "timestamp": 1530861861084,
          "user_tz": -270,
          "elapsed": 488,
          "user": {
            "displayName": "Maryam Meghdadi",
            "photoUrl": "//lh4.googleusercontent.com/-_e8noA6hVUI/AAAAAAAAAAI/AAAAAAAABDI/yWdVOp2vsL8/s50-c-k-no/photo.jpg",
            "userId": "116043109273115022182"
          }
        }
      },
      "cell_type": "code",
      "source": [
        "!pip install -U -q PyDrive\n",
        "from pydrive.auth import GoogleAuth\n",
        "from pydrive.drive import GoogleDrive\n",
        "from google.colab import auth\n",
        "from oauth2client.client import GoogleCredentials\n",
        "\n",
        "\n",
        "auth.authenticate_user()\n",
        "gauth = GoogleAuth()\n",
        "gauth.credentials = GoogleCredentials.get_application_default()\n",
        "drive = GoogleDrive(gauth)\n",
        "\n"
      ],
      "execution_count": 1,
      "outputs": []
    },
    {
      "metadata": {
        "id": "r9IB5RbpfqWP",
        "colab_type": "code",
        "colab": {
          "autoexec": {
            "startup": false,
            "wait_interval": 0
          },
          "base_uri": "https://localhost:8080/",
          "height": 0
        },
        "outputId": "2f05ae23-7efc-4198-a1ac-3a0c698adb01",
        "executionInfo": {
          "status": "ok",
          "timestamp": 1530861865265,
          "user_tz": -270,
          "elapsed": 4121,
          "user": {
            "displayName": "Maryam Meghdadi",
            "photoUrl": "//lh4.googleusercontent.com/-_e8noA6hVUI/AAAAAAAAAAI/AAAAAAAABDI/yWdVOp2vsL8/s50-c-k-no/photo.jpg",
            "userId": "116043109273115022182"
          }
        }
      },
      "cell_type": "code",
      "source": [
        "\n",
        "#file_id = '1HOKjjmgU_GAIYA_hZimCD8NTI3yoJ1bL' #Sadegh\n",
        "file_id = '1wj5EXCBZ9wyzxYoyHk3XHuvV2ZZSTGAb' #Maryam\n",
        "downloaded = drive.CreateFile({'id': file_id})\n",
        "downloaded.GetContentFile('fer2013.csv') \n"
      ],
      "execution_count": 2,
      "outputs": []
    },
    {
      "metadata": {
        "id": "ACdagFc6f72B",
        "colab_type": "code",
        "colab": {
          "autoexec": {
            "startup": false,
            "wait_interval": 0
          },
          "base_uri": "https://localhost:8080/",
          "height": 0
        },
        "outputId": "ca6e1c30-9526-4769-fde7-20e026b75299",
        "executionInfo": {
          "status": "ok",
          "timestamp": 1530861866323,
          "user_tz": -270,
          "elapsed": 1009,
          "user": {
            "displayName": "Maryam Meghdadi",
            "photoUrl": "//lh4.googleusercontent.com/-_e8noA6hVUI/AAAAAAAAAAI/AAAAAAAABDI/yWdVOp2vsL8/s50-c-k-no/photo.jpg",
            "userId": "116043109273115022182"
          }
        }
      },
      "cell_type": "code",
      "source": [
        "import pandas as pd\n",
        "import numpy as np\n",
        "from matplotlib import pyplot as plt"
      ],
      "execution_count": 3,
      "outputs": []
    },
    {
      "metadata": {
        "id": "1MsaNTFof-MD",
        "colab_type": "code",
        "colab": {
          "autoexec": {
            "startup": false,
            "wait_interval": 0
          },
          "base_uri": "https://localhost:8080/",
          "height": 72
        },
        "outputId": "0ef293e2-f3cc-4c21-c821-96a2f656f376",
        "executionInfo": {
          "status": "ok",
          "timestamp": 1530861871442,
          "user_tz": -270,
          "elapsed": 5070,
          "user": {
            "displayName": "Maryam Meghdadi",
            "photoUrl": "//lh4.googleusercontent.com/-_e8noA6hVUI/AAAAAAAAAAI/AAAAAAAABDI/yWdVOp2vsL8/s50-c-k-no/photo.jpg",
            "userId": "116043109273115022182"
          }
        }
      },
      "cell_type": "code",
      "source": [
        "dff = df = pd.DataFrame.from_csv('fer2013.csv', index_col=None)"
      ],
      "execution_count": 4,
      "outputs": [
        {
          "output_type": "stream",
          "text": [
            "/usr/local/lib/python3.6/dist-packages/ipykernel_launcher.py:1: FutureWarning: from_csv is deprecated. Please use read_csv(...) instead. Note that some of the default arguments are different, so please refer to the documentation for from_csv when changing your function calls\n",
            "  \"\"\"Entry point for launching an IPython kernel.\n"
          ],
          "name": "stderr"
        }
      ]
    },
    {
      "metadata": {
        "id": "lroX7Lj7gDEG",
        "colab_type": "code",
        "colab": {
          "autoexec": {
            "startup": false,
            "wait_interval": 0
          },
          "base_uri": "https://localhost:8080/",
          "height": 0
        },
        "outputId": "f7f0636f-4361-4d4f-bcef-8af3c851c79f",
        "executionInfo": {
          "status": "ok",
          "timestamp": 1530861872038,
          "user_tz": -270,
          "elapsed": 579,
          "user": {
            "displayName": "Maryam Meghdadi",
            "photoUrl": "//lh4.googleusercontent.com/-_e8noA6hVUI/AAAAAAAAAAI/AAAAAAAABDI/yWdVOp2vsL8/s50-c-k-no/photo.jpg",
            "userId": "116043109273115022182"
          }
        }
      },
      "cell_type": "code",
      "source": [
        "train = df[0:28709]\n",
        "cv = df[28709:32298]\n",
        "\n",
        "y_train = train.emotion\n",
        "y_cv = cv.emotion\n",
        "\n",
        "train_size = 28709\n",
        "cv_size = 3589\n",
        "num_pix = 2304 #48*48\n",
        "num_classes = 7"
      ],
      "execution_count": 5,
      "outputs": []
    },
    {
      "metadata": {
        "id": "lJfxHnfogGL7",
        "colab_type": "code",
        "colab": {
          "autoexec": {
            "startup": false,
            "wait_interval": 0
          },
          "base_uri": "https://localhost:8080/",
          "height": 0
        },
        "outputId": "ed46e7b2-0cbd-44a7-94d3-18f93b3f8b0f",
        "executionInfo": {
          "status": "ok",
          "timestamp": 1530861897438,
          "user_tz": -270,
          "elapsed": 25372,
          "user": {
            "displayName": "Maryam Meghdadi",
            "photoUrl": "//lh4.googleusercontent.com/-_e8noA6hVUI/AAAAAAAAAAI/AAAAAAAABDI/yWdVOp2vsL8/s50-c-k-no/photo.jpg",
            "userId": "116043109273115022182"
          }
        }
      },
      "cell_type": "code",
      "source": [
        "X_train = np.zeros((train_size, 48,48,1))\n",
        "for i in range (train_size):\n",
        "    b = [int(j) for j in train.pixels[i].split()]\n",
        "    X_train[i] = np.array(b).reshape([48,48,1])\n",
        " \n"
      ],
      "execution_count": 6,
      "outputs": []
    },
    {
      "metadata": {
        "id": "SFZaXgXegHqp",
        "colab_type": "code",
        "colab": {
          "autoexec": {
            "startup": false,
            "wait_interval": 0
          },
          "base_uri": "https://localhost:8080/",
          "height": 0
        },
        "outputId": "3729c9ce-ab88-4dec-a780-447744118fe6",
        "executionInfo": {
          "status": "ok",
          "timestamp": 1530861901724,
          "user_tz": -270,
          "elapsed": 4257,
          "user": {
            "displayName": "Maryam Meghdadi",
            "photoUrl": "//lh4.googleusercontent.com/-_e8noA6hVUI/AAAAAAAAAAI/AAAAAAAABDI/yWdVOp2vsL8/s50-c-k-no/photo.jpg",
            "userId": "116043109273115022182"
          }
        }
      },
      "cell_type": "code",
      "source": [
        "X_cv = np.zeros((cv_size, 48,48,1))\n",
        "for i in range (28709,32298):\n",
        "    b = [int(j) for j in cv.pixels[i].split()]\n",
        "    X_cv[i-28709] = np.array(b).reshape([48,48,1])"
      ],
      "execution_count": 7,
      "outputs": []
    },
    {
      "metadata": {
        "id": "0y90C8GkgPMB",
        "colab_type": "code",
        "colab": {
          "autoexec": {
            "startup": false,
            "wait_interval": 0
          },
          "base_uri": "https://localhost:8080/",
          "height": 34
        },
        "outputId": "24383766-6a5d-499b-827d-a59d1c8251dc",
        "executionInfo": {
          "status": "ok",
          "timestamp": 1530861910626,
          "user_tz": -270,
          "elapsed": 8871,
          "user": {
            "displayName": "Maryam Meghdadi",
            "photoUrl": "//lh4.googleusercontent.com/-_e8noA6hVUI/AAAAAAAAAAI/AAAAAAAABDI/yWdVOp2vsL8/s50-c-k-no/photo.jpg",
            "userId": "116043109273115022182"
          }
        }
      },
      "cell_type": "code",
      "source": [
        "import numpy as np\n",
        "import keras\n",
        "from keras import layers\n",
        "from keras.layers import Input, Add, Dense, Activation, ZeroPadding2D, BatchNormalization, Flatten, Conv2D, AveragePooling2D, MaxPooling2D, GlobalMaxPooling2D\n",
        "from keras.models import Model, load_model\n",
        "from keras.preprocessing import image\n",
        "from keras.utils import layer_utils\n",
        "from keras.utils.data_utils import get_file\n",
        "from keras.applications.imagenet_utils import preprocess_input\n",
        "from IPython.display import SVG\n",
        "from keras.utils.vis_utils import model_to_dot\n",
        "from keras.utils import plot_model\n",
        "from keras.initializers import glorot_uniform\n",
        "from keras.utils import to_categorical\n",
        "import scipy.misc\n",
        "from matplotlib.pyplot import imshow\n",
        "%matplotlib inline\n",
        "\n",
        "import keras.backend as K\n",
        "K.set_image_data_format('channels_last')\n",
        "K.set_learning_phase(1)"
      ],
      "execution_count": 8,
      "outputs": [
        {
          "output_type": "stream",
          "text": [
            "Using TensorFlow backend.\n"
          ],
          "name": "stderr"
        }
      ]
    },
    {
      "metadata": {
        "id": "j2vHTgaUgRlJ",
        "colab_type": "code",
        "colab": {
          "autoexec": {
            "startup": false,
            "wait_interval": 0
          },
          "base_uri": "https://localhost:8080/",
          "height": 0
        },
        "outputId": "ed02358e-c088-4dfe-efcf-d43aeb13cd62",
        "executionInfo": {
          "status": "ok",
          "timestamp": 1530861911632,
          "user_tz": -270,
          "elapsed": 982,
          "user": {
            "displayName": "Maryam Meghdadi",
            "photoUrl": "//lh4.googleusercontent.com/-_e8noA6hVUI/AAAAAAAAAAI/AAAAAAAABDI/yWdVOp2vsL8/s50-c-k-no/photo.jpg",
            "userId": "116043109273115022182"
          }
        }
      },
      "cell_type": "code",
      "source": [
        ""
      ],
      "execution_count": 8,
      "outputs": []
    },
    {
      "metadata": {
        "id": "QdoI7zHYpRPA",
        "colab_type": "code",
        "colab": {
          "autoexec": {
            "startup": false,
            "wait_interval": 0
          },
          "base_uri": "https://localhost:8080/",
          "height": 0
        },
        "outputId": "19920118-b7ec-485f-dc02-029da5c5f410",
        "executionInfo": {
          "status": "ok",
          "timestamp": 1530861912686,
          "user_tz": -270,
          "elapsed": 1024,
          "user": {
            "displayName": "Maryam Meghdadi",
            "photoUrl": "//lh4.googleusercontent.com/-_e8noA6hVUI/AAAAAAAAAAI/AAAAAAAABDI/yWdVOp2vsL8/s50-c-k-no/photo.jpg",
            "userId": "116043109273115022182"
          }
        }
      },
      "cell_type": "code",
      "source": [
        "def identity_block(X, f, filters, stage, block):\n",
        "    \"\"\"\n",
        "    Implementation of the identity block as defined in Figure 3\n",
        "    \n",
        "    Arguments:\n",
        "    X -- input tensor of shape (m, n_H_prev, n_W_prev, n_C_prev)\n",
        "    f -- integer, specifying the shape of the middle CONV's window for the main path\n",
        "    filters -- python list of integers, defining the number of filters in the CONV layers of the main path\n",
        "    stage -- integer, used to name the layers, depending on their position in the network\n",
        "    block -- string/character, used to name the layers, depending on their position in the network\n",
        "    \n",
        "    Returns:\n",
        "    X -- output of the identity block, tensor of shape (n_H, n_W, n_C)\n",
        "    \"\"\"\n",
        "    \n",
        "    # defining name basis\n",
        "    conv_name_base = 'res' + str(stage) + block + '_branch'\n",
        "    bn_name_base = 'bn' + str(stage) + block + '_branch'\n",
        "    \n",
        "    # Retrieve Filters\n",
        "    F1, F2, F3 = filters\n",
        "    \n",
        "    # Save the input value. You'll need this later to add back to the main path. \n",
        "    X_shortcut = X\n",
        "    \n",
        "    # First component of main path\n",
        "    X = Conv2D(filters = F1, kernel_size = (1, 1), strides = (1,1), padding = 'valid', name = conv_name_base + '2a', kernel_initializer = glorot_uniform(seed=0))(X)\n",
        "    X = BatchNormalization(axis = 1, name = bn_name_base + '2a')(X)\n",
        "    X = Activation('relu')(X)\n",
        "    \n",
        "    ### START CODE HERE ###\n",
        "    \n",
        "    # Second component of main path (≈3 lines)\n",
        "    X = Conv2D(filters = F2, kernel_size = (f,f), strides = (1,1), padding= 'same', name = conv_name_base + '2b', kernel_initializer = glorot_uniform(seed=0))(X)\n",
        "    X = BatchNormalization(axis=1, name = bn_name_base + '2b')(X)\n",
        "    X = Activation('relu')(X)\n",
        "\n",
        "    # Third component of main path (≈2 lines)\n",
        "    X = Conv2D(filters = F3, kernel_size = (1,1), strides = (1,1), padding = 'valid', name = conv_name_base + '2c', kernel_initializer = glorot_uniform(seed=0))(X)\n",
        "    X = BatchNormalization(axis = 1, name = bn_name_base + '2c')(X)\n",
        "\n",
        "    # Final step: Add shortcut value to main path, and pass it through a RELU activation (≈2 lines)\n",
        "    X = Add()([X,X_shortcut])\n",
        "    X = Activation('relu')(X)\n",
        "    \n",
        "    ### END CODE HERE ###\n",
        "    \n",
        "    return X"
      ],
      "execution_count": 9,
      "outputs": []
    },
    {
      "metadata": {
        "id": "TCsTx_3qNTGG",
        "colab_type": "code",
        "colab": {
          "autoexec": {
            "startup": false,
            "wait_interval": 0
          },
          "base_uri": "https://localhost:8080/",
          "height": 0
        },
        "outputId": "ed6724ab-f82e-498e-cf86-3a6bd3f9ff68",
        "executionInfo": {
          "status": "ok",
          "timestamp": 1530861913822,
          "user_tz": -270,
          "elapsed": 1053,
          "user": {
            "displayName": "Maryam Meghdadi",
            "photoUrl": "//lh4.googleusercontent.com/-_e8noA6hVUI/AAAAAAAAAAI/AAAAAAAABDI/yWdVOp2vsL8/s50-c-k-no/photo.jpg",
            "userId": "116043109273115022182"
          }
        }
      },
      "cell_type": "code",
      "source": [
        "\n",
        "def convolutional_block(X, f, filters, stage, block, s = 2):\n",
        "    \"\"\"\n",
        "    Implementation of the convolutional block as defined in Figure 4\n",
        "    \n",
        "    Arguments:\n",
        "    X -- input tensor of shape (m, n_H_prev, n_W_prev, n_C_prev)\n",
        "    f -- integer, specifying the shape of the middle CONV's window for the main path\n",
        "    filters -- python list of integers, defining the number of filters in the CONV layers of the main path\n",
        "    stage -- integer, used to name the layers, depending on their position in the network\n",
        "    block -- string/character, used to name the layers, depending on their position in the network\n",
        "    s -- Integer, specifying the stride to be used\n",
        "    \n",
        "    Returns:\n",
        "    X -- output of the convolutional block, tensor of shape (n_H, n_W, n_C)\n",
        "    \"\"\"\n",
        "    \n",
        "    # defining name basis\n",
        "    conv_name_base = 'res' + str(stage) + block + '_branch'\n",
        "    bn_name_base = 'bn' + str(stage) + block + '_branch'\n",
        "    \n",
        "    # Retrieve Filters\n",
        "    F1, F2, F3 = filters\n",
        "    \n",
        "    # Save the input value\n",
        "    X_shortcut = X\n",
        "\n",
        "\n",
        "    ##### MAIN PATH #####\n",
        "    # First component of main path \n",
        "    X = Conv2D(F1, (1, 1), strides = (s,s), name = conv_name_base + '2a',padding = 'valid', kernel_initializer = glorot_uniform(seed=0))(X)\n",
        "    X = BatchNormalization(axis = 1, name = bn_name_base + '2a')(X)\n",
        "    X = Activation('relu')(X)\n",
        "    \n",
        "    ### START CODE HERE ###\n",
        "\n",
        "    # Second component of main path (≈3 lines)\n",
        "    X = Conv2D(F2, (f,f), strides = (1,1), name = conv_name_base + '2b',padding = 'same', kernel_initializer= glorot_uniform(seed=0))(X)\n",
        "    X = BatchNormalization(axis = 1, name = bn_name_base + '2b')(X)\n",
        "    X = Activation('relu')(X)\n",
        "\n",
        "    # Third component of main path (≈2 lines)\n",
        "    X = Conv2D(F3, (1,1), strides = (1,1), name = conv_name_base + '2c',padding = 'valid', kernel_initializer= glorot_uniform(seed=0))(X)\n",
        "    X = BatchNormalization(axis = 1, name = bn_name_base + '2c')(X)\n",
        "\n",
        "    ##### SHORTCUT PATH #### (≈2 lines)\n",
        "    X_shortcut = Conv2D(F3, (1,1), strides = (s,s), name = conv_name_base + '1',padding = 'valid', kernel_initializer= glorot_uniform(seed=0))(X_shortcut)\n",
        "    X_shortcut = BatchNormalization(axis = 1, name = bn_name_base + '1')(X_shortcut)\n",
        "\n",
        "    # Final step: Add shortcut value to main path, and pass it through a RELU activation (≈2 lines)\n",
        "    X = Add()([X,X_shortcut])\n",
        "    X = Activation('relu')(X)\n",
        "    \n",
        "    ### END CODE HERE ###\n",
        "    \n",
        "    return X"
      ],
      "execution_count": 10,
      "outputs": []
    },
    {
      "metadata": {
        "id": "3cBC52uhNVGd",
        "colab_type": "code",
        "colab": {
          "autoexec": {
            "startup": false,
            "wait_interval": 0
          },
          "base_uri": "https://localhost:8080/",
          "height": 0
        },
        "outputId": "aecf0c2c-d9ff-4bd5-beb9-21ce1d1439bb",
        "executionInfo": {
          "status": "ok",
          "timestamp": 1530861914933,
          "user_tz": -270,
          "elapsed": 1059,
          "user": {
            "displayName": "Maryam Meghdadi",
            "photoUrl": "//lh4.googleusercontent.com/-_e8noA6hVUI/AAAAAAAAAAI/AAAAAAAABDI/yWdVOp2vsL8/s50-c-k-no/photo.jpg",
            "userId": "116043109273115022182"
          }
        }
      },
      "cell_type": "code",
      "source": [
        "# GRADED FUNCTION: ResNet50\n",
        "\n",
        "def ResNet50(input_shape = (48, 48, 1), classes = num_classes):\n",
        "    \"\"\"\n",
        "    Implementation of the popular ResNet50 the following architecture:\n",
        "    CONV2D -> BATCHNORM -> RELU -> MAXPOOL -> CONVBLOCK -> IDBLOCK*2 -> CONVBLOCK -> IDBLOCK*3\n",
        "    -> CONVBLOCK -> IDBLOCK*5 -> CONVBLOCK -> IDBLOCK*2 -> AVGPOOL -> TOPLAYER\n",
        "\n",
        "    Arguments:\n",
        "    input_shape -- shape of the images of the dataset\n",
        "    classes -- integer, number of classes\n",
        "\n",
        "    Returns:\n",
        "    model -- a Model() instance in Keras\n",
        "    \"\"\"\n",
        "    \n",
        "    # Define the input as a tensor with shape input_shape\n",
        "    X_input = Input(input_shape)\n",
        "\n",
        "    \n",
        "    # Zero-Padding\n",
        "    X = ZeroPadding2D((3, 3))(X_input)\n",
        "    \n",
        "    # Stage 1\n",
        "    X = Conv2D(32, (5, 5), strides = (2, 2), name = 'conv1', kernel_initializer = glorot_uniform(seed=0))(X)\n",
        "    X = BatchNormalization(axis = 3, name = 'bn_conv1')(X)\n",
        "    X = Activation('relu')(X)\n",
        "    X = MaxPooling2D((3, 3), strides=(2, 2))(X)\n",
        "\n",
        "    # Stage 2\n",
        "    X = convolutional_block(X, f = 3, filters = [32, 32, 128], stage = 2, block='a', s = 1)\n",
        "    X = identity_block(X, 3, [32, 32, 128], stage=2, block='b')\n",
        "    X = identity_block(X, 3, [32, 32, 128], stage=2, block='c')\n",
        "    ### START CODE HERE ##\n",
        "\n",
        "    # Stage 3 (≈4 lines)\n",
        "    X = convolutional_block(X, f = 3, filters = [64, 64, 256], stage = 3, block='a', s = 2)\n",
        "    X = identity_block(X, 3, [64, 64, 256], stage=3, block='b')\n",
        "    X = identity_block(X, 3, [64, 64, 256], stage=3, block='c')\n",
        "    X = identity_block(X, 3, [64, 64, 256], stage=3, block='d')\n",
        "\n",
        "    # Stage 4 (≈6 lines)\n",
        "    X = convolutional_block(X, f = 3, filters = [128, 128, 512], stage = 4, block='a', s = 2)\n",
        "    X = identity_block(X, 3, [128, 128, 512], stage=4, block='b')\n",
        "    X = identity_block(X, 3, [128, 128, 512], stage=4, block='c')\n",
        "    X = identity_block(X, 3, [128, 128, 512], stage=4, block='d')\n",
        "    X = identity_block(X, 3, [128, 128, 512], stage=4, block='e')\n",
        "    X = identity_block(X, 3, [128, 128, 512], stage=4, block='f')\n",
        "\n",
        "    # Stage 5 (≈3 lines)\n",
        "    X = convolutional_block(X, f = 3, filters = [256, 256, 1024], stage = 5, block='a', s = 2)\n",
        "    X = identity_block(X, 3, [256, 256, 1024], stage=5, block='b')\n",
        "    X = identity_block(X, 3, [256, 256, 1024], stage=5, block='c')\n",
        "\n",
        "    # AVGPOOL (≈1 line). Use \"X = AveragePooling2D(...)(X)\"\n",
        "    X = AveragePooling2D(pool_size = (2,2), name = 'avg_pool')(X)\n",
        "    \n",
        "    ### END CODE HERE ###\n",
        "\n",
        "    # output layer\n",
        "    X = Flatten()(X)\n",
        "    X = Dense(classes, activation='softmax', name='fc' + str(classes), kernel_initializer = glorot_uniform(seed=0))(X)\n",
        "    \n",
        "    \n",
        "    # Create model\n",
        "    model = Model(inputs = X_input, outputs = X, name='ResNet50')\n",
        "\n",
        "    return model"
      ],
      "execution_count": 11,
      "outputs": []
    },
    {
      "metadata": {
        "id": "087qc5WnNWSc",
        "colab_type": "code",
        "colab": {
          "autoexec": {
            "startup": false,
            "wait_interval": 0
          },
          "base_uri": "https://localhost:8080/",
          "height": 0
        },
        "outputId": "53a714a3-15da-468b-dc79-af2f89950d10",
        "executionInfo": {
          "status": "ok",
          "timestamp": 1530861922146,
          "user_tz": -270,
          "elapsed": 7185,
          "user": {
            "displayName": "Maryam Meghdadi",
            "photoUrl": "//lh4.googleusercontent.com/-_e8noA6hVUI/AAAAAAAAAAI/AAAAAAAABDI/yWdVOp2vsL8/s50-c-k-no/photo.jpg",
            "userId": "116043109273115022182"
          }
        }
      },
      "cell_type": "code",
      "source": [
        "model = ResNet50()"
      ],
      "execution_count": 12,
      "outputs": []
    },
    {
      "metadata": {
        "id": "Q_Y0AupqNYJ6",
        "colab_type": "code",
        "colab": {
          "autoexec": {
            "startup": false,
            "wait_interval": 0
          },
          "base_uri": "https://localhost:8080/",
          "height": 0
        },
        "outputId": "9e01dd5d-95cf-4525-d7c1-7a62e6e6c500",
        "executionInfo": {
          "status": "ok",
          "timestamp": 1530861923163,
          "user_tz": -270,
          "elapsed": 959,
          "user": {
            "displayName": "Maryam Meghdadi",
            "photoUrl": "//lh4.googleusercontent.com/-_e8noA6hVUI/AAAAAAAAAAI/AAAAAAAABDI/yWdVOp2vsL8/s50-c-k-no/photo.jpg",
            "userId": "116043109273115022182"
          }
        }
      },
      "cell_type": "code",
      "source": [
        "model.compile(optimizer='adam', loss='categorical_crossentropy', metrics=['accuracy'])"
      ],
      "execution_count": 13,
      "outputs": []
    },
    {
      "metadata": {
        "id": "5lR3AqlRNdJS",
        "colab_type": "code",
        "colab": {
          "autoexec": {
            "startup": false,
            "wait_interval": 0
          },
          "base_uri": "https://localhost:8080/",
          "height": 0
        },
        "outputId": "b8f8a160-8d8b-49a5-d9f3-619c0b09c7db",
        "executionInfo": {
          "status": "ok",
          "timestamp": 1530861924237,
          "user_tz": -270,
          "elapsed": 1042,
          "user": {
            "displayName": "Maryam Meghdadi",
            "photoUrl": "//lh4.googleusercontent.com/-_e8noA6hVUI/AAAAAAAAAAI/AAAAAAAABDI/yWdVOp2vsL8/s50-c-k-no/photo.jpg",
            "userId": "116043109273115022182"
          }
        }
      },
      "cell_type": "code",
      "source": [
        "# Normalize image vectors\n",
        "X_train = X_train/255.\n",
        "X_cv = X_cv/255.\n",
        "\n",
        "# Convert training and test labels to one hot matrices\n",
        "#y_train = convert_to_one_hot(y_cv, 7).T\n",
        "#y_cv = convert_to_one_hot(y_cv, 7).T\n",
        "y_train = keras.utils.to_categorical(y_train, num_classes)\n",
        "y_cv = keras.utils.to_categorical(y_cv, num_classes)"
      ],
      "execution_count": 14,
      "outputs": []
    },
    {
      "metadata": {
        "id": "UXKTwi8wgcab",
        "colab_type": "code",
        "colab": {
          "autoexec": {
            "startup": false,
            "wait_interval": 0
          },
          "base_uri": "https://localhost:8080/",
          "height": 605
        },
        "outputId": "c783a1f8-cb01-4143-c090-421de9f45c71",
        "executionInfo": {
          "status": "ok",
          "timestamp": 1530863791890,
          "user_tz": -270,
          "elapsed": 1867615,
          "user": {
            "displayName": "Maryam Meghdadi",
            "photoUrl": "//lh4.googleusercontent.com/-_e8noA6hVUI/AAAAAAAAAAI/AAAAAAAABDI/yWdVOp2vsL8/s50-c-k-no/photo.jpg",
            "userId": "116043109273115022182"
          }
        }
      },
      "cell_type": "code",
      "source": [
        "model.fit(X_train, y_train, epochs = 15, batch_size = 32, validation_data=(X_cv, y_cv))"
      ],
      "execution_count": 15,
      "outputs": [
        {
          "output_type": "stream",
          "text": [
            "Train on 28709 samples, validate on 3589 samples\n",
            "Epoch 1/15\n",
            "22080/28709 [======================>.......] - ETA: 30s - loss: 2.4478 - acc: 0.2417"
          ],
          "name": "stdout"
        },
        {
          "output_type": "stream",
          "text": [
            "28709/28709 [==============================] - 134s 5ms/step - loss: 2.3697 - acc: 0.2427 - val_loss: 1.9344 - val_acc: 0.2469\n",
            "Epoch 2/15\n",
            "11808/28709 [===========>..................] - ETA: 1:11 - loss: 1.8182 - acc: 0.2529"
          ],
          "name": "stdout"
        },
        {
          "output_type": "stream",
          "text": [
            "28709/28709 [==============================] - 123s 4ms/step - loss: 1.8078 - acc: 0.2511 - val_loss: 1.7957 - val_acc: 0.2480\n",
            "Epoch 3/15\n",
            " 7936/28709 [=======>......................] - ETA: 1:27 - loss: 1.8004 - acc: 0.2484"
          ],
          "name": "stdout"
        },
        {
          "output_type": "stream",
          "text": [
            "28709/28709 [==============================] - 124s 4ms/step - loss: 1.7928 - acc: 0.2515 - val_loss: 1.7831 - val_acc: 0.2544\n",
            "Epoch 4/15\n",
            " 6464/28709 [=====>........................] - ETA: 1:33 - loss: 1.7877 - acc: 0.2506"
          ],
          "name": "stdout"
        },
        {
          "output_type": "stream",
          "text": [
            "28709/28709 [==============================] - 123s 4ms/step - loss: 1.7893 - acc: 0.2526 - val_loss: 1.7807 - val_acc: 0.2530\n",
            "Epoch 5/15\n",
            " 5888/28709 [=====>........................] - ETA: 1:36 - loss: 1.7870 - acc: 0.2532"
          ],
          "name": "stdout"
        },
        {
          "output_type": "stream",
          "text": [
            "28709/28709 [==============================] - 123s 4ms/step - loss: 1.7815 - acc: 0.2581 - val_loss: 1.7644 - val_acc: 0.2731\n",
            "Epoch 6/15\n",
            " 5696/28709 [====>.........................] - ETA: 1:36 - loss: 1.7628 - acc: 0.2802"
          ],
          "name": "stdout"
        },
        {
          "output_type": "stream",
          "text": [
            "28709/28709 [==============================] - 122s 4ms/step - loss: 1.7156 - acc: 0.2987 - val_loss: 1.6718 - val_acc: 0.3341\n",
            "Epoch 7/15\n",
            " 5600/28709 [====>.........................] - ETA: 1:37 - loss: 1.6566 - acc: 0.3346"
          ],
          "name": "stdout"
        },
        {
          "output_type": "stream",
          "text": [
            "28709/28709 [==============================] - 123s 4ms/step - loss: 1.6265 - acc: 0.3508 - val_loss: 1.6177 - val_acc: 0.3672\n",
            "Epoch 8/15\n",
            " 5568/28709 [====>.........................] - ETA: 1:37 - loss: 1.5932 - acc: 0.3662"
          ],
          "name": "stdout"
        },
        {
          "output_type": "stream",
          "text": [
            "28709/28709 [==============================] - 123s 4ms/step - loss: 1.5882 - acc: 0.3688 - val_loss: 1.5399 - val_acc: 0.4035\n",
            "Epoch 9/15\n",
            " 5568/28709 [====>.........................] - ETA: 1:37 - loss: 1.5618 - acc: 0.3895"
          ],
          "name": "stdout"
        },
        {
          "output_type": "stream",
          "text": [
            "28709/28709 [==============================] - 123s 4ms/step - loss: 1.5492 - acc: 0.3862 - val_loss: 1.5323 - val_acc: 0.3959\n",
            "Epoch 10/15\n",
            " 5536/28709 [====>.........................] - ETA: 1:37 - loss: 1.5301 - acc: 0.3981"
          ],
          "name": "stdout"
        },
        {
          "output_type": "stream",
          "text": [
            "28709/28709 [==============================] - 123s 4ms/step - loss: 1.4938 - acc: 0.4115 - val_loss: 1.4950 - val_acc: 0.4166\n",
            "Epoch 11/15\n",
            " 5536/28709 [====>.........................] - ETA: 1:38 - loss: 1.4652 - acc: 0.4203"
          ],
          "name": "stdout"
        },
        {
          "output_type": "stream",
          "text": [
            "28709/28709 [==============================] - 123s 4ms/step - loss: 1.4516 - acc: 0.4279 - val_loss: 1.4583 - val_acc: 0.4347\n",
            "Epoch 12/15\n",
            " 5536/28709 [====>.........................] - ETA: 1:38 - loss: 1.4330 - acc: 0.4402"
          ],
          "name": "stdout"
        },
        {
          "output_type": "stream",
          "text": [
            "28709/28709 [==============================] - 123s 4ms/step - loss: 1.4201 - acc: 0.4453 - val_loss: 1.3843 - val_acc: 0.4653\n",
            "Epoch 13/15\n",
            " 5536/28709 [====>.........................] - ETA: 1:37 - loss: 1.3963 - acc: 0.4552"
          ],
          "name": "stdout"
        },
        {
          "output_type": "stream",
          "text": [
            "28709/28709 [==============================] - 124s 4ms/step - loss: 1.4088 - acc: 0.4513 - val_loss: 1.3716 - val_acc: 0.4661\n",
            "Epoch 14/15\n",
            " 5536/28709 [====>.........................] - ETA: 1:37 - loss: 1.3455 - acc: 0.4780"
          ],
          "name": "stdout"
        },
        {
          "output_type": "stream",
          "text": [
            "28709/28709 [==============================] - 124s 4ms/step - loss: 1.3314 - acc: 0.4833 - val_loss: 1.3450 - val_acc: 0.4767\n",
            "Epoch 15/15\n",
            " 5536/28709 [====>.........................] - ETA: 1:38 - loss: 1.2964 - acc: 0.4922"
          ],
          "name": "stdout"
        },
        {
          "output_type": "stream",
          "text": [
            "28709/28709 [==============================] - 124s 4ms/step - loss: 1.2971 - acc: 0.4989 - val_loss: 1.3410 - val_acc: 0.4762\n"
          ],
          "name": "stdout"
        },
        {
          "output_type": "execute_result",
          "data": {
            "text/plain": [
              "<keras.callbacks.History at 0x7fa64f393f60>"
            ]
          },
          "metadata": {
            "tags": []
          },
          "execution_count": 15
        }
      ]
    },
    {
      "metadata": {
        "id": "0jsW4r74gedy",
        "colab_type": "code",
        "colab": {
          "autoexec": {
            "startup": false,
            "wait_interval": 0
          },
          "base_uri": "https://localhost:8080/",
          "height": 0
        },
        "outputId": "d1c0e474-fbba-4080-edbe-715637adb341",
        "executionInfo": {
          "status": "ok",
          "timestamp": 1530863792892,
          "user_tz": -270,
          "elapsed": 987,
          "user": {
            "displayName": "Maryam Meghdadi",
            "photoUrl": "//lh4.googleusercontent.com/-_e8noA6hVUI/AAAAAAAAAAI/AAAAAAAABDI/yWdVOp2vsL8/s50-c-k-no/photo.jpg",
            "userId": "116043109273115022182"
          }
        }
      },
      "cell_type": "code",
      "source": [
        ""
      ],
      "execution_count": 15,
      "outputs": []
    }
  ]
}