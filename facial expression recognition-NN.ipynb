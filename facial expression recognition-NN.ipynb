{
 "cells": [
  {
   "cell_type": "code",
   "execution_count": 20,
   "metadata": {},
   "outputs": [],
   "source": [
    "import matplotlib.pyplot as plt\n",
    "from mpl_toolkits.mplot3d import Axes3D\n",
    "from sklearn import datasets\n",
    "from sklearn.decomposition import PCA\n",
    "import pandas as pd\n",
    "import numpy as np\n",
    "from matplotlib import pyplot as plt\n",
    "from sklearn.linear_model import LogisticRegression\n",
    "import seaborn as sns\n",
    "import matplotlib.patches as mpatches\n",
    "%matplotlib inline"
   ]
  },
  {
   "cell_type": "code",
   "execution_count": 21,
   "metadata": {},
   "outputs": [
    {
     "data": {
      "text/plain": [
       "(35887, 3)"
      ]
     },
     "execution_count": 21,
     "metadata": {},
     "output_type": "execute_result"
    }
   ],
   "source": [
    "dff = df = pd.DataFrame.from_csv('fer2013.csv', index_col=None)\n",
    "fer = input_data.rea\n",
    "df.shape"
   ]
  },
  {
   "cell_type": "code",
   "execution_count": 22,
   "metadata": {},
   "outputs": [],
   "source": [
    "cv = df.drop([int(k) for k in range(28709)]) #PublicTest\n",
    "cv = cv.drop([int(k) for k in range(32298, 35887)]) #PublicTest 28709,32297\n",
    "test = df.drop([int(k) for k in range(32298)]) #PrivateTest"
   ]
  },
  {
   "cell_type": "code",
   "execution_count": 23,
   "metadata": {},
   "outputs": [],
   "source": [
    "df = df.drop([int(k) for k in range(28709,35887)]) #Test"
   ]
  },
  {
   "cell_type": "code",
   "execution_count": 24,
   "metadata": {},
   "outputs": [],
   "source": [
    "y_train = df.emotion\n",
    "y_cv = cv.emotion\n",
    "y_test = test.emotion"
   ]
  },
  {
   "cell_type": "code",
   "execution_count": 25,
   "metadata": {},
   "outputs": [],
   "source": [
    "df = df.drop('emotion', axis = 1)\n",
    "df = df.drop('Usage', axis = 1)\n",
    "cv = cv.drop('emotion', axis = 1)\n",
    "cv = cv.drop('Usage', axis = 1)\n",
    "test = test.drop('emotion', axis = 1)\n",
    "test = test.drop('Usage', axis = 1)"
   ]
  },
  {
   "cell_type": "code",
   "execution_count": 26,
   "metadata": {},
   "outputs": [],
   "source": [
    "nparr = np.zeros((28709, 2304))\n",
    "nparr1 = np.zeros((3589, 2304))\n",
    "nparr2 = np.zeros((3589, 2304))"
   ]
  },
  {
   "cell_type": "code",
   "execution_count": 27,
   "metadata": {},
   "outputs": [],
   "source": [
    "for i in range(28709):\n",
    "    df.pixels[i] = [int(j) for j in df.pixels[i].split()]\n",
    "    nparr[i] = np.array(df.pixels[i])"
   ]
  },
  {
   "cell_type": "code",
   "execution_count": 28,
   "metadata": {},
   "outputs": [],
   "source": [
    "maindf = pd.DataFrame(nparr, columns=[int(i) for i in range(2304)])\n",
    "X = maindf"
   ]
  },
  {
   "cell_type": "code",
   "execution_count": 29,
   "metadata": {},
   "outputs": [],
   "source": [
    "for i in range(28709,32298):#public\n",
    "    cv.pixels[i] = [int(j) for j in cv.pixels[i].split()]\n",
    "    nparr1[i-28709] = np.array(cv.pixels[i])"
   ]
  },
  {
   "cell_type": "code",
   "execution_count": 30,
   "metadata": {},
   "outputs": [],
   "source": [
    "maincv = pd.DataFrame(nparr1, columns=[int(i) for i in range(2304)])\n",
    "X_cv = maincv"
   ]
  },
  {
   "cell_type": "code",
   "execution_count": 31,
   "metadata": {},
   "outputs": [],
   "source": [
    "for i in range(32298,35887):#private\n",
    "    test.pixels[i] = [int(j) for j in test.pixels[i].split()]\n",
    "    nparr2[i-32298] = np.array(test.pixels[i])"
   ]
  },
  {
   "cell_type": "code",
   "execution_count": 32,
   "metadata": {},
   "outputs": [],
   "source": [
    "maintest = pd.DataFrame(nparr2, columns=[int(i) for i in range(2304)])\n",
    "X_test = maintest"
   ]
  },
  {
   "cell_type": "code",
   "execution_count": 33,
   "metadata": {},
   "outputs": [],
   "source": [
    "import tensorflow as tf"
   ]
  },
  {
   "cell_type": "code",
   "execution_count": 34,
   "metadata": {},
   "outputs": [
    {
     "data": {
      "text/plain": [
       "<matplotlib.image.AxesImage at 0x7f5541277a58>"
      ]
     },
     "execution_count": 34,
     "metadata": {},
     "output_type": "execute_result"
    },
    {
     "data": {
      "image/png": "[encoded data removed]",
      "text/plain": [
       "<matplotlib.figure.Figure at 0x7f5517c444e0>"
      ]
     },
     "metadata": {},
     "output_type": "display_data"
    }
   ],
   "source": [
    "a = dff.pixels\n",
    "arr1 = np.zeros((28709, 48,48))\n",
    "for i in range (28709):\n",
    "    b = [int(j) for j in a[i].split()]\n",
    "    arr1[i] = np.array(b).reshape([48,48])\n",
    "plt.imshow(arr1[1])  "
   ]
  },
  {
   "cell_type": "code",
   "execution_count": 35,
   "metadata": {},
   "outputs": [],
   "source": [
    "x = tf.placeholder('float' , [None , 2304])\n",
    "y = tf.placeholder('float')"
   ]
  },
  {
   "cell_type": "code",
   "execution_count": null,
   "metadata": {},
   "outputs": [],
   "source": []
  },
  {
   "cell_type": "code",
   "execution_count": 36,
   "metadata": {},
   "outputs": [],
   "source": [
    "n_h1 = 28709\n",
    "n_h2 = 1000\n",
    "n_h3 = 1000\n",
    "n_classes = 7\n",
    "batch_size = 100\n",
    "def neural_network(data):\n",
    "    hidden_l_1 = {'weights' :tf.Variable(tf.random_normal([2304 , n_h1])) , 'bias':tf.Variable(tf.random_normal([n_h1]))}\n",
    "    hidden_l_2 = {'weights' :tf.Variable(tf.random_normal([n_h1 , n_h2])) , 'bias':tf.Variable(tf.random_normal([n_h2]))}\n",
    "    hidden_l_3 = {'weights' :tf.Variable(tf.random_normal([n_h2 , n_h3])) , 'bias':tf.Variable(tf.random_normal([n_h3]))}\n",
    "    output_l = {'weights' :tf.Variable(tf.random_normal([n_h3 , n_classes])) , 'bias':tf.Variable(tf.random_normal([n_classes]))}\n",
    "    l1 = tf.add(tf.matmul(data,hidden_l_1['weights']) , hidden_l_1['bias'])    \n",
    "    l1 = tf.nn.relu(l1)\n",
    "    l2 = tf.add(tf.matmul(l1,hidden_l_2['weights']) , hidden_l_2['bias'])    \n",
    "    l2 = tf.nn.relu(l2)\n",
    "    l3 = tf.add(tf.matmul(l2,hidden_l_3['weights']) , hidden_l_3['bias'])    \n",
    "    l3 = tf.nn.relu(l3)\n",
    "    output = tf.matmul(l3,output_l['weights']) + output_l['bias']   \n",
    "    return output"
   ]
  },
  {
   "cell_type": "code",
   "execution_count": 37,
   "metadata": {},
   "outputs": [],
   "source": [
    "def training(X):\n",
    "    prediction = neural_network(X)\n",
    "    cost = tf.reduce_mean(tf.nn.softmax_cross_entropy_with_logits(logits=prediction , labels=y))\n",
    "    #                       learning_rate = 0.001\n",
    "    optimizer = tf.train.AdamOptimizer().minimize(cost)\n",
    "    num_epochs = 50\n",
    "    with tf.Session as sess:\n",
    "        sess.run(tf.global_variables_initializer())\n",
    "        \n",
    "        for epochs in range(num_epochs):\n",
    "            epochs_loss = 0\n",
    "            for i in range(28709 // batch_size):\n",
    "                ex = arr1.next_batch(batch_size)\n",
    "                ey = y_train.next_batch(batch_size)\n",
    "                _, c = session.run([optimizer, cost], feed_dict={\n",
    "                    X: ex, y: ey})    \n",
    "                epochs_loss += c\n",
    "                \n",
    "            print('Epoch', epochs, '/', num_epochs, 'loss', epochs_loss)\n",
    "        \n",
    "        correct = tf.equal(tf.argmax(prediction, 1), tf.argmax(y, 1))\n",
    "        accuracy = tf.reduce_mean(tf.cast(correct, 'float'))\n",
    "        print('Accuracy:', accuracy.eval({X: arr1,\n",
    "                                          y: y_train}))"
   ]
  },
  {
   "cell_type": "code",
   "execution_count": 38,
   "metadata": {},
   "outputs": [
    {
     "name": "stderr",
     "output_type": "stream",
     "text": [
      "WARNING:tensorflow:From <ipython-input-37-8cf102db6e2b>:3: softmax_cross_entropy_with_logits (from tensorflow.python.ops.nn_ops) is deprecated and will be removed in a future version.\n",
      "Instructions for updating:\n",
      "\n",
      "Future major versions of TensorFlow will allow gradients to flow\n",
      "into the labels input on backprop by default.\n",
      "\n",
      "See tf.nn.softmax_cross_entropy_with_logits_v2.\n",
      "\n"
     ]
    },
    {
     "ename": "AttributeError",
     "evalue": "__exit__",
     "output_type": "error",
     "traceback": [
      "\u001b[0;31m---------------------------------------------------------------------------\u001b[0m",
      "\u001b[0;31mAttributeError\u001b[0m                            Traceback (most recent call last)",
      "\u001b[0;32m<ipython-input-38-86e88ee32152>\u001b[0m in \u001b[0;36m<module>\u001b[0;34m()\u001b[0m\n\u001b[0;32m----> 1\u001b[0;31m \u001b[0mtraining\u001b[0m\u001b[0;34m(\u001b[0m\u001b[0mx\u001b[0m\u001b[0;34m)\u001b[0m\u001b[0;34m\u001b[0m\u001b[0m\n\u001b[0m",
      "\u001b[0;32m<ipython-input-37-8cf102db6e2b>\u001b[0m in \u001b[0;36mtraining\u001b[0;34m(X)\u001b[0m\n\u001b[1;32m      5\u001b[0m     \u001b[0moptimizer\u001b[0m \u001b[0;34m=\u001b[0m \u001b[0mtf\u001b[0m\u001b[0;34m.\u001b[0m\u001b[0mtrain\u001b[0m\u001b[0;34m.\u001b[0m\u001b[0mAdamOptimizer\u001b[0m\u001b[0;34m(\u001b[0m\u001b[0;34m)\u001b[0m\u001b[0;34m.\u001b[0m\u001b[0mminimize\u001b[0m\u001b[0;34m(\u001b[0m\u001b[0mcost\u001b[0m\u001b[0;34m)\u001b[0m\u001b[0;34m\u001b[0m\u001b[0m\n\u001b[1;32m      6\u001b[0m     \u001b[0mnum_epochs\u001b[0m \u001b[0;34m=\u001b[0m \u001b[0;36m50\u001b[0m\u001b[0;34m\u001b[0m\u001b[0m\n\u001b[0;32m----> 7\u001b[0;31m     \u001b[0;32mwith\u001b[0m \u001b[0mtf\u001b[0m\u001b[0;34m.\u001b[0m\u001b[0mSession\u001b[0m \u001b[0;32mas\u001b[0m \u001b[0msess\u001b[0m\u001b[0;34m:\u001b[0m\u001b[0;34m\u001b[0m\u001b[0m\n\u001b[0m\u001b[1;32m      8\u001b[0m         \u001b[0msess\u001b[0m\u001b[0;34m.\u001b[0m\u001b[0mrun\u001b[0m\u001b[0;34m(\u001b[0m\u001b[0mtf\u001b[0m\u001b[0;34m.\u001b[0m\u001b[0mglobal_variables_initializer\u001b[0m\u001b[0;34m(\u001b[0m\u001b[0;34m)\u001b[0m\u001b[0;34m)\u001b[0m\u001b[0;34m\u001b[0m\u001b[0m\n\u001b[1;32m      9\u001b[0m         \u001b[0;32mfor\u001b[0m \u001b[0mepochs\u001b[0m \u001b[0;32min\u001b[0m \u001b[0mrange\u001b[0m\u001b[0;34m(\u001b[0m\u001b[0mnum_epochs\u001b[0m\u001b[0;34m)\u001b[0m\u001b[0;34m:\u001b[0m\u001b[0;34m\u001b[0m\u001b[0m\n",
      "\u001b[0;31mAttributeError\u001b[0m: __exit__"
     ]
    }
   ],
   "source": [
    "training(x)"
   ]
  },
  {
   "cell_type": "code",
   "execution_count": null,
   "metadata": {},
   "outputs": [],
   "source": []
  },
  {
   "cell_type": "code",
   "execution_count": null,
   "metadata": {},
   "outputs": [],
   "source": []
  }
 ],
 "metadata": {
  "kernelspec": {
   "display_name": "Python 3",
   "language": "python",
   "name": "python3"
  },
  "language_info": {
   "codemirror_mode": {
    "name": "ipython",
    "version": 3
   },
   "file_extension": ".py",
   "mimetype": "text/x-python",
   "name": "python",
   "nbconvert_exporter": "python",
   "pygments_lexer": "ipython3",
   "version": "3.5.2"
  }
 },
 "nbformat": 4,
 "nbformat_minor": 2
}
